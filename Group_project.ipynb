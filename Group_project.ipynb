{
 "cells": [
  {
   "cell_type": "markdown",
   "metadata": {
    "id": "VRGXi5ZvJS3y"
   },
   "source": [
    "## COMP5721M: Programming for Data Science\n",
    "\n",
    "## Group project (Coursework 2): Data Analysis Project\n",
    "\n",
    "\n",
    "# Predictive Analysis of Heart Attack Risk Using Machine Learning Algorithms\n",
    "\n",
    "Group member names\n",
    "* Rajvi Rajesh Jagani, qjth6630@leeds.ac.uk\n",
    "* Stan Kilburn, kmgc7321@leeds.ac.uk\n",
    "* Zaid Rupani, rtgw1267@leeds.ac.uk\n",
    "* Bhargav Kumar Nath, vnnh7247@leeds.ac.uk"
   ]
  },
  {
   "cell_type": "markdown",
   "metadata": {
    "id": "Ozr_MIPiJS32"
   },
   "source": [
    "# Project Plan\n",
    "\n",
    "## The Data (10 marks)\n",
    "### Dataset Overview\n",
    "The **Heart Failure Prediction** dataset, available on Kaggle, is a critical resource for researchers and practitioners in the healthcare field, focusing on cardiovascular diseases (CVDs), which remain the leading cause of death worldwide, claiming approximately 17.9 million lives annually. Among these, heart failure is a prevalent outcome that necessitates early detection and intervention, especially for individuals at high cardiovascular risk due to factors like hypertension, diabetes, and hyperlipidaemia. This dataset comprises 11 features, making it a valuable tool for developing machine learning models to predict heart disease.\n",
    "\n",
    "### Context and Importance\n",
    "Given the alarming statistics surrounding CVDs—where four out of five deaths result from heart attacks and strokes—it is vital to leverage advanced analytical techniques for early diagnosis and management. The Heart Failure Prediction dataset facilitates this need by providing comprehensive data that can aid in identifying individuals who may be at risk of heart failure, thereby enhancing preventive healthcare measures.\n",
    "\n",
    "### Attribute Information\n",
    "The dataset includes the following key attributes:\n",
    "\n",
    "- **Age**: Age of the patient in years.\n",
    "- **Sex**: Gender of the patient (M: Male, F: Female).\n",
    "- **ChestPainType**: Classification of chest pain (e.g., Typical Angina, Atypical Angina, Non-Anginal Pain, Asymptomatic).\n",
    "- **RestingBP**: Resting blood pressure in mm Hg.\n",
    "- **Cholesterol**: Serum cholesterol levels in mg/dl.\n",
    "- **FastingBS**: Fasting blood sugar levels (1: if fasting blood sugar > 120 mg/dl, 0: otherwise).\n",
    "- **RestingECG**: Results of a resting electrocardiogram (Normal, ST abnormality, LVH).\n",
    "- **MaxHR**: Maximum heart rate achieved (numerical value between 60 and 202).\n",
    "- **ExerciseAngina**: Indicates exercise-induced angina (Y: Yes, N: No).\n",
    "- **Oldpeak**: Measurement of ST segment depression.\n",
    "- **ST_Slope**: Slope of the peak exercise ST segment (Up, Flat, Down).\n",
    "- **HeartDisease**: Output class indicating the presence of heart disease (1: heart disease, 0: normal).\n",
    "\n",
    "### Source and Composition\n",
    "The dataset is notable for being a comprehensive amalgamation of five independent heart disease datasets, which collectively offer a robust sample size. These datasets include:\n",
    "\n",
    "- Cleveland (303 observations)\n",
    "- Hungarian (294 observations)\n",
    "- Switzerland (123 observations)\n",
    "- Long Beach VA (200 observations)\n",
    "- Stalog (Heart) Data Set (270 observations)\n",
    "\n",
    "In total, the combined dataset contains **1190 observations**, with **272 duplicates** removed, resulting in a final dataset of **918 observations**. Each of these individual datasets is accessible through the UCI Machine Learning Repository, ensuring transparency and facilitating further research.\n",
    "\n",
    "### Citation and Acknowledgements\n",
    "The dataset was created with contributions from various medical institutions and professionals, emphasizing the collaborative effort behind its compilation. For further reference, the dataset can be cited as follows:\n",
    "\n",
    "fedesoriano. (September 2021). Heart Failure Prediction Dataset. Retrieved [Date Retrieved] from [Kaggle Link](https://www.kaggle.com/fedesoriano/heart-failure-prediction).\n",
    "\n",
    "By utilizing this dataset, we can contribute significantly to understanding and predicting heart failure, ultimately advancing patient care and treatment outcomes.\n",
    "\n",
    "\n",
    "\n",
    "## Project Aim and Objectives (5 marks)\n",
    "\n",
    "WILL CHANGE\n",
    "\n",
    "The primary aim of this project is to develop a predictive model that can accurately classify patients based on the likelihood of heart disease, using clinical and demographic features. Cardiovascular disease is a leading cause of death globally, and early prediction and intervention can greatly reduce its impact. By leveraging machine learning, this project intends to create a model that can assist healthcare providers in identifying high-risk individuals, supporting more proactive patient care.\n",
    "\n",
    "To achieve this aim, the project will involve several key objectives:\n",
    "\n",
    "* Data Cleaning and Preparation: Begin by cleaning the dataset to handle any missing or inconsistent data, ensuring it is suitable for machine learning modeling. This step is crucial for obtaining reliable results in the predictive models.\n",
    "\n",
    "* Exploratory Data Analysis (EDA): Perform an in-depth exploration of the dataset to understand the distribution and relationships of features, identifying patterns or correlations that might indicate risk factors associated with heart disease. Visualization techniques will be used to highlight insights from the data.\n",
    "\n",
    "* Model Implementation and Comparison: Implement and evaluate multiple machine learning algorithms, such as logistic regression, decision trees, random forests, and support vector machines. By testing different algorithms, we aim to determine which model provides the best accuracy for predicting heart disease.\n",
    "\n",
    "* Model Evaluation and Interpretation: Use evaluation metrics like accuracy, precision, recall, and the F1 score to assess model performance. This will help identify the most reliable model for practical application, potentially enhancing clinical decision-making processes.\n",
    "\n",
    "* The ultimate objective is to build a robust predictive tool for heart disease classification, which could be further optimized for real-world implementation and extended as a valuable resource for medical research in preventive healthcare.\n",
    "\n",
    "### Specific Objective(s)\n",
    "\n",
    "WILL CHANGE\n",
    "\n",
    "1. **Objective 1:** Clean and preprocess the dataset by handling missing values, encoding categorical features, and normalizing numerical values where necessary. This will ensure the dataset is well-prepared for accurate and reliable model training.\n",
    "\n",
    "2. **Objective 2:** Conduct exploratory data analysis (EDA) to uncover patterns, correlations, and distributional characteristics within the dataset. Visualizations such as histograms, heatmaps, and pair plots will be used to gain deeper insights into the data and the relationships between features.\n",
    "\n",
    "3. **Objective 3:** Implement multiple machine learning models, including logistic regression, decision trees, and random forests, to classify patients based on heart disease risk. Each model will be trained and tested to identify the most effective algorithm for accurate prediction.\n",
    "\n",
    "4. **Objective 4:** Evaluate and compare model performance using accuracy, precision, recall, and F1 score. This will help in identifying the best model, optimizing it further if necessary, and assessing its potential for practical application in healthcare settings.\n",
    "\n",
    "## System Design (5 marks)\n",
    "\n",
    "_Describe your code in terms of the\n",
    "following two sections._\n",
    "\n",
    "### Architecture\n",
    "\n",
    "_Typically this would be  a pipeline in which data goes through several\n",
    "stages of transformation and analysis, but other architectures are possible.\n",
    "This does not need to be particularly complicated. A simple diagram with\n",
    "100-150 words of explanation would\n",
    "be a good way to present your architecture._\n",
    "  \n",
    "### Processing Modules and Algorithms\n",
    "\n",
    "_Briefly list and describe the most significant computational components of your system and the algorithms you will use to implement them.\n",
    "This could include things like:_\n",
    "\n",
    "* _cleaning the data by removing outliers_\n",
    "* _combining different datasets_\n",
    "* _converting samples to a special representaion (such as feature vectors)_\n",
    "* _constructing a special data-structure (such as a decision tree)_\n",
    "* _running some kind of analysis_\n",
    "\n",
    "_Your list can be presented in similar form to the one just given,\n",
    "but should include a brief\n",
    "but more specific description of the components and/or algorithms.\n",
    "Probably three or four components is sufficient for most projects, but\n",
    "you may want to have more._"
   ]
  },
  {
   "cell_type": "markdown",
   "metadata": {
    "id": "JlxO1EgSJS33"
   },
   "source": [
    "# Data exploration\n",
    "\n",
    "In this section we will explore the dataset using various libraries like numpy and pandas. "
   ]
  },
  {
   "cell_type": "code",
   "execution_count": 248,
   "metadata": {
    "id": "GDbH2ms9JS33"
   },
   "outputs": [],
   "source": [
    "# importing necessary libraries with the import statement\n",
    "# numPy provides efficient numerical operations on arrays, while pandas offers data structures and tools for data manipulation.\n",
    "import numpy as np\n",
    "import pandas as pd"
   ]
  },
  {
   "cell_type": "code",
   "execution_count": 249,
   "metadata": {
    "colab": {
     "base_uri": "https://localhost:8080/",
     "height": 362
    },
    "id": "bzXgv0XEJS35",
    "outputId": "64cf7945-0b79-41ed-89a8-7da3d1ee9493"
   },
   "outputs": [
    {
     "data": {
      "text/html": [
       "<div>\n",
       "<style scoped>\n",
       "    .dataframe tbody tr th:only-of-type {\n",
       "        vertical-align: middle;\n",
       "    }\n",
       "\n",
       "    .dataframe tbody tr th {\n",
       "        vertical-align: top;\n",
       "    }\n",
       "\n",
       "    .dataframe thead th {\n",
       "        text-align: right;\n",
       "    }\n",
       "</style>\n",
       "<table border=\"1\" class=\"dataframe\">\n",
       "  <thead>\n",
       "    <tr style=\"text-align: right;\">\n",
       "      <th></th>\n",
       "      <th>Age</th>\n",
       "      <th>Sex</th>\n",
       "      <th>ChestPainType</th>\n",
       "      <th>RestingBP</th>\n",
       "      <th>Cholesterol</th>\n",
       "      <th>FastingBS</th>\n",
       "      <th>RestingECG</th>\n",
       "      <th>MaxHR</th>\n",
       "      <th>ExerciseAngina</th>\n",
       "      <th>Oldpeak</th>\n",
       "      <th>ST_Slope</th>\n",
       "      <th>HeartDisease</th>\n",
       "    </tr>\n",
       "  </thead>\n",
       "  <tbody>\n",
       "    <tr>\n",
       "      <th>526</th>\n",
       "      <td>65</td>\n",
       "      <td>M</td>\n",
       "      <td>ASY</td>\n",
       "      <td>144</td>\n",
       "      <td>312</td>\n",
       "      <td>0</td>\n",
       "      <td>LVH</td>\n",
       "      <td>113</td>\n",
       "      <td>Y</td>\n",
       "      <td>1.7</td>\n",
       "      <td>Flat</td>\n",
       "      <td>1</td>\n",
       "    </tr>\n",
       "    <tr>\n",
       "      <th>875</th>\n",
       "      <td>58</td>\n",
       "      <td>F</td>\n",
       "      <td>NAP</td>\n",
       "      <td>120</td>\n",
       "      <td>340</td>\n",
       "      <td>0</td>\n",
       "      <td>Normal</td>\n",
       "      <td>172</td>\n",
       "      <td>N</td>\n",
       "      <td>0.0</td>\n",
       "      <td>Up</td>\n",
       "      <td>0</td>\n",
       "    </tr>\n",
       "    <tr>\n",
       "      <th>586</th>\n",
       "      <td>53</td>\n",
       "      <td>M</td>\n",
       "      <td>ASY</td>\n",
       "      <td>124</td>\n",
       "      <td>243</td>\n",
       "      <td>0</td>\n",
       "      <td>Normal</td>\n",
       "      <td>122</td>\n",
       "      <td>Y</td>\n",
       "      <td>2.0</td>\n",
       "      <td>Flat</td>\n",
       "      <td>1</td>\n",
       "    </tr>\n",
       "    <tr>\n",
       "      <th>725</th>\n",
       "      <td>55</td>\n",
       "      <td>F</td>\n",
       "      <td>ASY</td>\n",
       "      <td>180</td>\n",
       "      <td>327</td>\n",
       "      <td>0</td>\n",
       "      <td>ST</td>\n",
       "      <td>117</td>\n",
       "      <td>Y</td>\n",
       "      <td>3.4</td>\n",
       "      <td>Flat</td>\n",
       "      <td>1</td>\n",
       "    </tr>\n",
       "    <tr>\n",
       "      <th>649</th>\n",
       "      <td>50</td>\n",
       "      <td>M</td>\n",
       "      <td>ASY</td>\n",
       "      <td>144</td>\n",
       "      <td>200</td>\n",
       "      <td>0</td>\n",
       "      <td>LVH</td>\n",
       "      <td>126</td>\n",
       "      <td>Y</td>\n",
       "      <td>0.9</td>\n",
       "      <td>Flat</td>\n",
       "      <td>1</td>\n",
       "    </tr>\n",
       "    <tr>\n",
       "      <th>371</th>\n",
       "      <td>66</td>\n",
       "      <td>M</td>\n",
       "      <td>ASY</td>\n",
       "      <td>150</td>\n",
       "      <td>0</td>\n",
       "      <td>0</td>\n",
       "      <td>Normal</td>\n",
       "      <td>108</td>\n",
       "      <td>Y</td>\n",
       "      <td>2.0</td>\n",
       "      <td>Flat</td>\n",
       "      <td>1</td>\n",
       "    </tr>\n",
       "    <tr>\n",
       "      <th>669</th>\n",
       "      <td>45</td>\n",
       "      <td>F</td>\n",
       "      <td>ATA</td>\n",
       "      <td>130</td>\n",
       "      <td>234</td>\n",
       "      <td>0</td>\n",
       "      <td>LVH</td>\n",
       "      <td>175</td>\n",
       "      <td>N</td>\n",
       "      <td>0.6</td>\n",
       "      <td>Flat</td>\n",
       "      <td>0</td>\n",
       "    </tr>\n",
       "    <tr>\n",
       "      <th>671</th>\n",
       "      <td>61</td>\n",
       "      <td>M</td>\n",
       "      <td>ASY</td>\n",
       "      <td>138</td>\n",
       "      <td>166</td>\n",
       "      <td>0</td>\n",
       "      <td>LVH</td>\n",
       "      <td>125</td>\n",
       "      <td>Y</td>\n",
       "      <td>3.6</td>\n",
       "      <td>Flat</td>\n",
       "      <td>1</td>\n",
       "    </tr>\n",
       "    <tr>\n",
       "      <th>501</th>\n",
       "      <td>63</td>\n",
       "      <td>M</td>\n",
       "      <td>ASY</td>\n",
       "      <td>130</td>\n",
       "      <td>308</td>\n",
       "      <td>0</td>\n",
       "      <td>Normal</td>\n",
       "      <td>138</td>\n",
       "      <td>Y</td>\n",
       "      <td>2.0</td>\n",
       "      <td>Flat</td>\n",
       "      <td>1</td>\n",
       "    </tr>\n",
       "    <tr>\n",
       "      <th>580</th>\n",
       "      <td>51</td>\n",
       "      <td>M</td>\n",
       "      <td>ASY</td>\n",
       "      <td>131</td>\n",
       "      <td>152</td>\n",
       "      <td>1</td>\n",
       "      <td>LVH</td>\n",
       "      <td>130</td>\n",
       "      <td>Y</td>\n",
       "      <td>1.0</td>\n",
       "      <td>Flat</td>\n",
       "      <td>1</td>\n",
       "    </tr>\n",
       "  </tbody>\n",
       "</table>\n",
       "</div>"
      ],
      "text/plain": [
       "     Age Sex ChestPainType  RestingBP  Cholesterol  FastingBS RestingECG  \\\n",
       "526   65   M           ASY        144          312          0        LVH   \n",
       "875   58   F           NAP        120          340          0     Normal   \n",
       "586   53   M           ASY        124          243          0     Normal   \n",
       "725   55   F           ASY        180          327          0         ST   \n",
       "649   50   M           ASY        144          200          0        LVH   \n",
       "371   66   M           ASY        150            0          0     Normal   \n",
       "669   45   F           ATA        130          234          0        LVH   \n",
       "671   61   M           ASY        138          166          0        LVH   \n",
       "501   63   M           ASY        130          308          0     Normal   \n",
       "580   51   M           ASY        131          152          1        LVH   \n",
       "\n",
       "     MaxHR ExerciseAngina  Oldpeak ST_Slope  HeartDisease  \n",
       "526    113              Y      1.7     Flat             1  \n",
       "875    172              N      0.0       Up             0  \n",
       "586    122              Y      2.0     Flat             1  \n",
       "725    117              Y      3.4     Flat             1  \n",
       "649    126              Y      0.9     Flat             1  \n",
       "371    108              Y      2.0     Flat             1  \n",
       "669    175              N      0.6     Flat             0  \n",
       "671    125              Y      3.6     Flat             1  \n",
       "501    138              Y      2.0     Flat             1  \n",
       "580    130              Y      1.0     Flat             1  "
      ]
     },
     "execution_count": 249,
     "metadata": {},
     "output_type": "execute_result"
    }
   ],
   "source": [
    "# Read the CSV file 'heart.csv' into a Pandas DataFrame\n",
    "df = pd.read_csv(\"heart.csv\")\n",
    "\n",
    "# Randomly sample 10 rows from the DataFrame and display them. We made it random for more unbiased and representative view compared to head()\n",
    "df.sample(10)"
   ]
  },
  {
   "cell_type": "code",
   "execution_count": 250,
   "metadata": {
    "colab": {
     "base_uri": "https://localhost:8080/"
    },
    "id": "KyeVKBjhJS36",
    "outputId": "afcc7b86-27c2-465c-bf0d-9182c8164de5"
   },
   "outputs": [
    {
     "name": "stdout",
     "output_type": "stream",
     "text": [
      "<class 'pandas.core.frame.DataFrame'>\n",
      "RangeIndex: 918 entries, 0 to 917\n",
      "Data columns (total 12 columns):\n",
      " #   Column          Non-Null Count  Dtype  \n",
      "---  ------          --------------  -----  \n",
      " 0   Age             918 non-null    int64  \n",
      " 1   Sex             918 non-null    object \n",
      " 2   ChestPainType   918 non-null    object \n",
      " 3   RestingBP       918 non-null    int64  \n",
      " 4   Cholesterol     918 non-null    int64  \n",
      " 5   FastingBS       918 non-null    int64  \n",
      " 6   RestingECG      918 non-null    object \n",
      " 7   MaxHR           918 non-null    int64  \n",
      " 8   ExerciseAngina  918 non-null    object \n",
      " 9   Oldpeak         918 non-null    float64\n",
      " 10  ST_Slope        918 non-null    object \n",
      " 11  HeartDisease    918 non-null    int64  \n",
      "dtypes: float64(1), int64(6), object(5)\n",
      "memory usage: 86.2+ KB\n"
     ]
    }
   ],
   "source": [
    "# Overview of the dataset\n",
    "df.info()"
   ]
  },
  {
   "cell_type": "markdown",
   "metadata": {
    "id": "RxMW_B4ZJS36"
   },
   "source": [
    "The DataFrame df has 918 rows and 12 columns. It contains both numerical and categorical data, and there are no missing values."
   ]
  },
  {
   "cell_type": "code",
   "execution_count": 251,
   "metadata": {
    "colab": {
     "base_uri": "https://localhost:8080/",
     "height": 300
    },
    "id": "qmD-jrV_JS37",
    "outputId": "caa50570-9710-4967-abb4-1e8574e1de16"
   },
   "outputs": [
    {
     "data": {
      "text/html": [
       "<div>\n",
       "<style scoped>\n",
       "    .dataframe tbody tr th:only-of-type {\n",
       "        vertical-align: middle;\n",
       "    }\n",
       "\n",
       "    .dataframe tbody tr th {\n",
       "        vertical-align: top;\n",
       "    }\n",
       "\n",
       "    .dataframe thead th {\n",
       "        text-align: right;\n",
       "    }\n",
       "</style>\n",
       "<table border=\"1\" class=\"dataframe\">\n",
       "  <thead>\n",
       "    <tr style=\"text-align: right;\">\n",
       "      <th></th>\n",
       "      <th>Age</th>\n",
       "      <th>RestingBP</th>\n",
       "      <th>Cholesterol</th>\n",
       "      <th>FastingBS</th>\n",
       "      <th>MaxHR</th>\n",
       "      <th>Oldpeak</th>\n",
       "      <th>HeartDisease</th>\n",
       "    </tr>\n",
       "  </thead>\n",
       "  <tbody>\n",
       "    <tr>\n",
       "      <th>count</th>\n",
       "      <td>918.000000</td>\n",
       "      <td>918.000000</td>\n",
       "      <td>918.000000</td>\n",
       "      <td>918.000000</td>\n",
       "      <td>918.000000</td>\n",
       "      <td>918.000000</td>\n",
       "      <td>918.000000</td>\n",
       "    </tr>\n",
       "    <tr>\n",
       "      <th>mean</th>\n",
       "      <td>53.510893</td>\n",
       "      <td>132.396514</td>\n",
       "      <td>198.799564</td>\n",
       "      <td>0.233115</td>\n",
       "      <td>136.809368</td>\n",
       "      <td>0.887364</td>\n",
       "      <td>0.553377</td>\n",
       "    </tr>\n",
       "    <tr>\n",
       "      <th>std</th>\n",
       "      <td>9.432617</td>\n",
       "      <td>18.514154</td>\n",
       "      <td>109.384145</td>\n",
       "      <td>0.423046</td>\n",
       "      <td>25.460334</td>\n",
       "      <td>1.066570</td>\n",
       "      <td>0.497414</td>\n",
       "    </tr>\n",
       "    <tr>\n",
       "      <th>min</th>\n",
       "      <td>28.000000</td>\n",
       "      <td>0.000000</td>\n",
       "      <td>0.000000</td>\n",
       "      <td>0.000000</td>\n",
       "      <td>60.000000</td>\n",
       "      <td>-2.600000</td>\n",
       "      <td>0.000000</td>\n",
       "    </tr>\n",
       "    <tr>\n",
       "      <th>25%</th>\n",
       "      <td>47.000000</td>\n",
       "      <td>120.000000</td>\n",
       "      <td>173.250000</td>\n",
       "      <td>0.000000</td>\n",
       "      <td>120.000000</td>\n",
       "      <td>0.000000</td>\n",
       "      <td>0.000000</td>\n",
       "    </tr>\n",
       "    <tr>\n",
       "      <th>50%</th>\n",
       "      <td>54.000000</td>\n",
       "      <td>130.000000</td>\n",
       "      <td>223.000000</td>\n",
       "      <td>0.000000</td>\n",
       "      <td>138.000000</td>\n",
       "      <td>0.600000</td>\n",
       "      <td>1.000000</td>\n",
       "    </tr>\n",
       "    <tr>\n",
       "      <th>75%</th>\n",
       "      <td>60.000000</td>\n",
       "      <td>140.000000</td>\n",
       "      <td>267.000000</td>\n",
       "      <td>0.000000</td>\n",
       "      <td>156.000000</td>\n",
       "      <td>1.500000</td>\n",
       "      <td>1.000000</td>\n",
       "    </tr>\n",
       "    <tr>\n",
       "      <th>max</th>\n",
       "      <td>77.000000</td>\n",
       "      <td>200.000000</td>\n",
       "      <td>603.000000</td>\n",
       "      <td>1.000000</td>\n",
       "      <td>202.000000</td>\n",
       "      <td>6.200000</td>\n",
       "      <td>1.000000</td>\n",
       "    </tr>\n",
       "  </tbody>\n",
       "</table>\n",
       "</div>"
      ],
      "text/plain": [
       "              Age   RestingBP  Cholesterol   FastingBS       MaxHR  \\\n",
       "count  918.000000  918.000000   918.000000  918.000000  918.000000   \n",
       "mean    53.510893  132.396514   198.799564    0.233115  136.809368   \n",
       "std      9.432617   18.514154   109.384145    0.423046   25.460334   \n",
       "min     28.000000    0.000000     0.000000    0.000000   60.000000   \n",
       "25%     47.000000  120.000000   173.250000    0.000000  120.000000   \n",
       "50%     54.000000  130.000000   223.000000    0.000000  138.000000   \n",
       "75%     60.000000  140.000000   267.000000    0.000000  156.000000   \n",
       "max     77.000000  200.000000   603.000000    1.000000  202.000000   \n",
       "\n",
       "          Oldpeak  HeartDisease  \n",
       "count  918.000000    918.000000  \n",
       "mean     0.887364      0.553377  \n",
       "std      1.066570      0.497414  \n",
       "min     -2.600000      0.000000  \n",
       "25%      0.000000      0.000000  \n",
       "50%      0.600000      1.000000  \n",
       "75%      1.500000      1.000000  \n",
       "max      6.200000      1.000000  "
      ]
     },
     "execution_count": 251,
     "metadata": {},
     "output_type": "execute_result"
    }
   ],
   "source": [
    "# Summary for numerical columns\n",
    "df.describe()"
   ]
  },
  {
   "cell_type": "code",
   "execution_count": 252,
   "metadata": {
    "colab": {
     "base_uri": "https://localhost:8080/",
     "height": 174
    },
    "id": "g9uxrMugJS37",
    "outputId": "635dc6a4-6566-4d80-bd04-f7e56dcf455f"
   },
   "outputs": [
    {
     "data": {
      "text/html": [
       "<div>\n",
       "<style scoped>\n",
       "    .dataframe tbody tr th:only-of-type {\n",
       "        vertical-align: middle;\n",
       "    }\n",
       "\n",
       "    .dataframe tbody tr th {\n",
       "        vertical-align: top;\n",
       "    }\n",
       "\n",
       "    .dataframe thead th {\n",
       "        text-align: right;\n",
       "    }\n",
       "</style>\n",
       "<table border=\"1\" class=\"dataframe\">\n",
       "  <thead>\n",
       "    <tr style=\"text-align: right;\">\n",
       "      <th></th>\n",
       "      <th>Sex</th>\n",
       "      <th>ChestPainType</th>\n",
       "      <th>RestingECG</th>\n",
       "      <th>ExerciseAngina</th>\n",
       "      <th>ST_Slope</th>\n",
       "    </tr>\n",
       "  </thead>\n",
       "  <tbody>\n",
       "    <tr>\n",
       "      <th>count</th>\n",
       "      <td>918</td>\n",
       "      <td>918</td>\n",
       "      <td>918</td>\n",
       "      <td>918</td>\n",
       "      <td>918</td>\n",
       "    </tr>\n",
       "    <tr>\n",
       "      <th>unique</th>\n",
       "      <td>2</td>\n",
       "      <td>4</td>\n",
       "      <td>3</td>\n",
       "      <td>2</td>\n",
       "      <td>3</td>\n",
       "    </tr>\n",
       "    <tr>\n",
       "      <th>top</th>\n",
       "      <td>M</td>\n",
       "      <td>ASY</td>\n",
       "      <td>Normal</td>\n",
       "      <td>N</td>\n",
       "      <td>Flat</td>\n",
       "    </tr>\n",
       "    <tr>\n",
       "      <th>freq</th>\n",
       "      <td>725</td>\n",
       "      <td>496</td>\n",
       "      <td>552</td>\n",
       "      <td>547</td>\n",
       "      <td>460</td>\n",
       "    </tr>\n",
       "  </tbody>\n",
       "</table>\n",
       "</div>"
      ],
      "text/plain": [
       "        Sex ChestPainType RestingECG ExerciseAngina ST_Slope\n",
       "count   918           918        918            918      918\n",
       "unique    2             4          3              2        3\n",
       "top       M           ASY     Normal              N     Flat\n",
       "freq    725           496        552            547      460"
      ]
     },
     "execution_count": 252,
     "metadata": {},
     "output_type": "execute_result"
    }
   ],
   "source": [
    "# Summary for categorical columns\n",
    "df.describe(include=\"object\")"
   ]
  },
  {
   "cell_type": "code",
   "execution_count": 253,
   "metadata": {
    "colab": {
     "base_uri": "https://localhost:8080/"
    },
    "id": "_7Hfh6fiJS38",
    "outputId": "32106d2d-e4b8-4f21-a5bf-458961fd1bea"
   },
   "outputs": [
    {
     "name": "stdout",
     "output_type": "stream",
     "text": [
      "Number of rows: 0\n"
     ]
    }
   ],
   "source": [
    "# Checking for duplicates\n",
    "duplicates = df.duplicated().sum()\n",
    "\n",
    "print(f\"Number of rows: {duplicates}\")"
   ]
  },
  {
   "cell_type": "markdown",
   "metadata": {
    "id": "wGi_2vmKJS38"
   },
   "source": [
    "It shows we don't have any duplicates"
   ]
  },
  {
   "cell_type": "markdown",
   "metadata": {
    "id": "T423hiPpJS38"
   },
   "source": [
    "## Data distribution and value counts\n"
   ]
  },
  {
   "cell_type": "code",
   "execution_count": 254,
   "metadata": {
    "colab": {
     "base_uri": "https://localhost:8080/"
    },
    "id": "UoBlGexrJS38",
    "outputId": "fb6d78ad-baef-41ad-fa86-10a2bde5533d"
   },
   "outputs": [
    {
     "name": "stdout",
     "output_type": "stream",
     "text": [
      "Value counts for Sex:\n",
      "Sex\n",
      "M    725\n",
      "F    193\n",
      "Name: count, dtype: int64\n",
      "\n",
      "\n",
      "Value counts for ChestPainType:\n",
      "ChestPainType\n",
      "ASY    496\n",
      "NAP    203\n",
      "ATA    173\n",
      "TA      46\n",
      "Name: count, dtype: int64\n",
      "\n",
      "\n",
      "Value counts for RestingECG:\n",
      "RestingECG\n",
      "Normal    552\n",
      "LVH       188\n",
      "ST        178\n",
      "Name: count, dtype: int64\n",
      "\n",
      "\n",
      "Value counts for ExerciseAngina:\n",
      "ExerciseAngina\n",
      "N    547\n",
      "Y    371\n",
      "Name: count, dtype: int64\n",
      "\n",
      "\n",
      "Value counts for ST_Slope:\n",
      "ST_Slope\n",
      "Flat    460\n",
      "Up      395\n",
      "Down     63\n",
      "Name: count, dtype: int64\n",
      "\n",
      "\n",
      "Target value distribution\n",
      "HeartDisease\n",
      "1    508\n",
      "0    410\n",
      "Name: count, dtype: int64\n"
     ]
    }
   ],
   "source": [
    "# View unique values and their counts for categorical columns\n",
    "for col in df.select_dtypes(include=object).columns:\n",
    "    print(f\"Value counts for {col}:\")\n",
    "    print(df[col].value_counts())\n",
    "    print(\"\\n\")\n",
    "\n",
    "# Check distribution of the target variable\n",
    "print(\"Target value distribution\")\n",
    "print(df[\"HeartDisease\"].value_counts())"
   ]
  },
  {
   "cell_type": "markdown",
   "metadata": {
    "id": "0qXWbTUvJS39"
   },
   "source": [
    "The dataset is imbalanced, with more instances of the majority class (HeartDisease=1). Most individuals are male, and the majority experience typical chest pain (ASY). Resting ECG results vary, with 'Normal' being the most common. Exercise-induced angina is present in a significant portion of individuals. The ST slope is predominantly flat."
   ]
  },
  {
   "cell_type": "markdown",
   "metadata": {
    "id": "9t-QRYeHJS39"
   },
   "source": [
    "## Data Visualisation"
   ]
  },
  {
   "cell_type": "markdown",
   "metadata": {
    "id": "tRe1BGjtJS39"
   },
   "source": [
    "Looking at the histograms, the data reveals typical patterns for a heart disease study. The age distribution shows most patients are middle-aged (50-65 years), with resting blood pressure typically ranging between 120-160 mmHg. Cholesterol levels show some variation with multiple peaks between 200-300 mg/dL. Most vital signs like maximum heart rate follow expected normal distributions, while binary indicators like fasting blood sugar show clear categorical splits. Overall, these distributions suggest a representative sample for studying cardiovascular health factors."
   ]
  },
  {
   "cell_type": "code",
   "execution_count": 256,
   "metadata": {
    "id": "bYm2pY7aJS39"
   },
   "outputs": [],
   "source": [
    "def plot_feature_distributions(df, num_cols=4):\n",
    "    \"\"\"\n",
    "    Generates distribution plots for numeric features in a DataFrame using seaborn.\n",
    "\n",
    "    This function creates a grid of histogram plots with kernal density estimation\n",
    "    for all numeric columns in the input DataFrame. The plots are arranged in a\n",
    "    configurable grid layout with customizable spacing and formatting.\n",
    "\n",
    "    Args:\n",
    "        df (pandas.DataFrame): Input DataFrame containing the data to visualize\n",
    "        num_cols (int, optional): Number of columns in the plot grid.\n",
    "\n",
    "    Returns:\n",
    "        None. It displays the plot using matplotliv.pyplot.show()\n",
    "    \"\"\"\n",
    "    cols = ['Age', 'RestingBP', 'Cholesterol', 'MaxHR', 'Oldpeak']\n",
    "    num_rows = (len(cols) - 1) // num_cols + 1\n",
    "\n",
    "    # Create a figure with the calculated dimensions\n",
    "    fig, axes = plt.subplots(num_rows, num_cols - 1, figsize=(15, 6 * num_rows))\n",
    "    axes = axes.flatten()  # Flatten the axes array for easier indexing\n",
    "\n",
    "    # Enumerate through columns and create histogram on each subplot\n",
    "    for i, col in enumerate(cols):\n",
    "        sns.histplot(df[col], kde=True, ax=axes[i])\n",
    "        axes[i].set_title(f\"Distribution of {col}\")\n",
    "\n",
    "    # Hide unused subplots (we only need 7 plots)\n",
    "    for i in range(len(cols), len(axes)):\n",
    "        fig.delaxes(axes[i])\n",
    "\n",
    "    # Fine-tune spacing between subplots for better readability\n",
    "    plt.subplots_adjust(left=0.05, right=0.95, top=0.9, bottom=0.05, wspace=0.3, hspace=0.3)\n",
    "    plt.show()"
   ]
  },
  {
   "cell_type": "code",
   "execution_count": 257,
   "metadata": {
    "colab": {
     "base_uri": "https://localhost:8080/",
     "height": 1000
    },
    "id": "fAbCUibHJS39",
    "outputId": "9bac15bd-da62-40e4-8061-2027709bd121"
   },
   "outputs": [
    {
     "data": {
      "image/png": "[encoded data removed]",
      "text/plain": [
       "<Figure size 1500x1200 with 5 Axes>"
      ]
     },
     "metadata": {},
     "output_type": "display_data"
    }
   ],
   "source": [
    "plot_feature_distributions(df)"
   ]
  },
  {
   "cell_type": "markdown",
   "metadata": {
    "id": "FxKt7hdjJS3-"
   },
   "source": [
    "Looking at these distributions, age follows a relatively normal distribution centered around 55-60 years. Resting blood pressure (RestingBP) shows a right-skewed pattern with most values between 120-140 mmHg. Cholesterol exhibits a bimodal distribution with peaks around 200-250 and 400 mg/dL, suggesting potential subgroups in the dataset. Maximum heart rate (MaxHR) appears normally distributed around 150 bpm. Fasting blood sugar (FastingBS) and heart disease status are binary variables with clear 0/1 splits. The Oldpeak measurement (ST depression) is right-skewed with most values close to 0, indicating fewer cases of severe ST depression during exercise."
   ]
  },
  {
   "cell_type": "markdown",
   "metadata": {},
   "source": [
    "To explore the categorical variables, we return to the value counts. We will create some countplots to visualise the potential problems in the balance of our data set."
   ]
  },
  {
   "cell_type": "code",
   "execution_count": 258,
   "metadata": {},
   "outputs": [
    {
     "data": {
      "image/png": "[encoded data removed]",
      "text/plain": [
       "<Figure size 1000x600 with 1 Axes>"
      ]
     },
     "metadata": {},
     "output_type": "display_data"
    }
   ],
   "source": [
    "catcols = ['ChestPainType','FastingBS','RestingECG','ExerciseAngina','ST_Slope']\n",
    "plt.figure(figsize=(10, 6))\n",
    "for col in catcols:\n",
    "    fig = sns.countplot(df,\n",
    "                 x=col, width = 0.5)\n",
    "    fig.set_title(f\"Distribution of categorical variables\")\n",
    "\n",
    "plt.legend(['ChestPainType','FastingBS','RestingECG','ExerciseAngina','ST_Slope'])  \n",
    "fig.set_xlabel('')\n",
    "plt.show()\n"
   ]
  },
  {
   "cell_type": "markdown",
   "metadata": {},
   "source": [
    "(EXPLAIN)"
   ]
  },
  {
   "cell_type": "code",
   "execution_count": 259,
   "metadata": {
    "colab": {
     "base_uri": "https://localhost:8080/",
     "height": 472
    },
    "id": "3bVwhu2lJS3-",
    "outputId": "6fca26b4-c295-4595-f7c6-0e40cd4db509"
   },
   "outputs": [
    {
     "data": {
      "image/png": "[encoded data removed]",
      "text/plain": [
       "<Figure size 640x480 with 1 Axes>"
      ]
     },
     "metadata": {},
     "output_type": "display_data"
    }
   ],
   "source": [
    "# Count plot for the target variable\n",
    "sns.countplot(data=df, x=\"HeartDisease\", hue=\"HeartDisease\", palette=\"Set2\", legend=False)\n",
    "plt.title(\"Target Variable Distribution\")\n",
    "plt.show()"
   ]
  },
  {
   "cell_type": "markdown",
   "metadata": {
    "id": "BX40roUeJS3-"
   },
   "source": [
    "The target variable (HeartDisease) distribution shows a fairly balanced dataset with a slight majority of positive cases (value 1). Out of approximately 900 total samples, around 500 patients have heart disease while about 400 do not. This near-balanced distribution is favorable for machine learning modeling as it reduces the need for sampling techniques to handle class imbalance."
   ]
  },
  {
   "cell_type": "code",
   "execution_count": 260,
   "metadata": {},
   "outputs": [
    {
     "data": {
      "image/png": "[encoded data removed]",
      "text/plain": [
       "<Figure size 640x480 with 1 Axes>"
      ]
     },
     "metadata": {},
     "output_type": "display_data"
    }
   ],
   "source": [
    "s = sns.color_palette(\"tab10\")\n",
    "\n",
    "sns.countplot(data=df,hue=\"Sex\",x=\"HeartDisease\",palette=[s[0],s[6]])\n",
    "plt.show()"
   ]
  },
  {
   "cell_type": "markdown",
   "metadata": {},
   "source": [
    "This plot shows the number of males and females in each heart disease category. We see that for healthy patients, we have alot more males than females. We also see that there are very few females with heart disease in our data, these two features may cause concerns on the validity of the machine learning models we create in this project."
   ]
  },
  {
   "cell_type": "code",
   "execution_count": 261,
   "metadata": {},
   "outputs": [
    {
     "name": "stderr",
     "output_type": "stream",
     "text": [
      "/var/folders/py/6b_81mdd6pd54tj85r9cvccm0000gn/T/ipykernel_10256/1058680145.py:2: FutureWarning: The default of observed=False is deprecated and will be changed to True in a future version of pandas. Pass observed=False to retain current behavior or observed=True to adopt the future default and silence this warning.\n",
      "  bins=[0,18,30,45,55,100])).loc[:,[\"box_age\",\"HeartDisease\"]].assign(count_pointer=1).groupby([\"box_age\",\"HeartDisease\"]).agg(count_num=(\"count_pointer\",\"count\"))\n"
     ]
    }
   ],
   "source": [
    "dfage = df.assign(box_age=pd.cut(df[\"Age\"],\n",
    "                         bins=[0,18,30,45,55,100])).loc[:,[\"box_age\",\"HeartDisease\"]].assign(count_pointer=1).groupby([\"box_age\",\"HeartDisease\"]).agg(count_num=(\"count_pointer\",\"count\"))\n",
    "dfage = dfage.reset_index()"
   ]
  },
  {
   "cell_type": "code",
   "execution_count": 262,
   "metadata": {},
   "outputs": [
    {
     "data": {
      "image/png": "[encoded data removed]",
      "text/plain": [
       "<Figure size 1000x600 with 1 Axes>"
      ]
     },
     "metadata": {},
     "output_type": "display_data"
    }
   ],
   "source": [
    "plt.figure(figsize=(10,6))\n",
    "s1 = sns.color_palette(\"tab10\")\n",
    "fig =sns.barplot(x=dfage[\"box_age\"],y=dfage[\"count_num\"],hue=dfage[\"HeartDisease\"],palette=[s[2],s[3]])\n",
    "fig.set_xlabel('Age categories')\n",
    "fig.set_ylabel('Count')\n",
    "sns.despine()"
   ]
  },
  {
   "cell_type": "markdown",
   "metadata": {},
   "source": [
    "As we'd expect, the proportion of heart disease cases increases as age does, suggesting older patients are more likely to have heart disease. From this plot We also see our data has lots of patients over the age of 55 with heart disease, which may also affect the validity of our machine larning models, as it will be less trained in predicting heart disease in younger patients."
   ]
  },
  {
   "cell_type": "markdown",
   "metadata": {
    "id": "r2E-9EzeJS3-"
   },
   "source": [
    "## Correlation Matrix"
   ]
  },
  {
   "cell_type": "markdown",
   "metadata": {
    "id": "PQbVr87zJS3-"
   },
   "source": [
    "Now we will create a correlation matrix, which will check feature correlations to identify relationships and potential multicollinearity."
   ]
  },
  {
   "cell_type": "code",
   "execution_count": 263,
   "metadata": {
    "colab": {
     "base_uri": "https://localhost:8080/",
     "height": 807
    },
    "id": "3jk0yW5CJS3-",
    "outputId": "015f38c5-57f8-4b66-c8e3-70d5c7141d3a"
   },
   "outputs": [
    {
     "data": {
      "image/png": "[encoded data removed]",
      "text/plain": [
       "<Figure size 1200x800 with 2 Axes>"
      ]
     },
     "metadata": {},
     "output_type": "display_data"
    }
   ],
   "source": [
    "# Select only numeric columns for the correlation matrix\n",
    "numeric_df = df.select_dtypes(include=[\"number\"])\n",
    "\n",
    "# Correlation matrix\n",
    "plt.figure(figsize=(12, 8))     # fig size\n",
    "sns.heatmap(numeric_df.corr(),  # Calculate correlation matrix\n",
    "            annot=True,         # Display correlation values within cells\n",
    "            cmap=\"coolwarm\",    # Color scheme\n",
    "            fmt=\".2f\")          # formatting the values to 2 decimal places\n",
    "plt.title(\"Feature Correlation Matrix\")     # Setting the title\n",
    "plt.tight_layout()                          # Ensure proper scaping around plot\n",
    "plt.show()                      # Display the plot"
   ]
  },
  {
   "cell_type": "markdown",
   "metadata": {
    "id": "PnwDp6mrJS3_"
   },
   "source": [
    "The correlation matrix reveals several important relationships with heart disease. The strongest correlations are with MaxHR (-0.40, negative correlation suggesting lower maximum heart rates are associated with heart disease), and Oldpeak (0.40, positive correlation indicating higher ST depression relates to increased heart disease risk). Age shows a moderate positive correlation (0.28) with heart disease, while cholesterol surprisingly shows a weak negative correlation (-0.23). FastingBS and RestingBP have weak positive correlations. Most features show relatively low correlation with each other, indicating minimal multicollinearity, which is favorable for modeling. Age and MaxHR have a notable negative correlation (-0.38), suggesting maximum heart rate decreases with age as expected biologically."
   ]
  },
  {
   "cell_type": "markdown",
   "metadata": {
    "id": "HvWtSONVJS3_"
   },
   "source": [
    "## Outlier Detection\n"
   ]
  },
  {
   "cell_type": "code",
   "execution_count": 264,
   "metadata": {
    "colab": {
     "base_uri": "https://localhost:8080/",
     "height": 1000
    },
    "id": "9HD0Jlz0JS3_",
    "outputId": "324b7c8c-5c27-46f5-e6cf-27dcd403f243"
   },
   "outputs": [
    {
     "data": {
      "image/png": "[encoded data removed]",
      "text/plain": [
       "<Figure size 1500x1200 with 5 Axes>"
      ]
     },
     "metadata": {},
     "output_type": "display_data"
    }
   ],
   "source": [
    "# Now we will use boxplot for each numerical feature\n",
    "\n",
    "# Select numerical columns for boxplots\n",
    "cols = ['Age', 'RestingBP', 'Cholesterol', 'MaxHR', 'Oldpeak']\n",
    "\n",
    "# Define subplots grid dimensions\n",
    "num_cols = 4\n",
    "num_rows = (len(cols) - 1) // num_cols + 1      # Number of rows in subplot grid\n",
    "\n",
    "# Create subplot figure with specified dimensions\n",
    "fig, axes = plt.subplots(num_rows, num_cols-1, figsize=(15, 6 * num_rows))\n",
    "\n",
    "# Flatten axes array for easier iteration\n",
    "axes = axes.flatten()\n",
    "\n",
    "# Enumerate through columns and create boxplots on each subplot\n",
    "for i, col in enumerate(cols):\n",
    "    sns.boxplot(data=df[[col]], ax=axes[i],\n",
    "                palette=\"Set3\")\n",
    "    axes[i].set_title(f\"Box plot of {col}\")\n",
    "\n",
    "# Remove unused subplots\n",
    "for i in range(len(cols), len(axes)):\n",
    "    fig.delaxes(axes[i])\n",
    "\n",
    "\n",
    "# Fine-tune spacing between subplots for better readability\n",
    "plt.subplots_adjust(left=0.05, right=0.95, top=0.9, bottom=0.05, wspace=0.3, hspace=0.3)\n",
    "\n",
    "plt.show()\n"
   ]
  },
  {
   "cell_type": "markdown",
   "metadata": {
    "id": "p1CebeVCJS3_"
   },
   "source": [
    "Age is centered around 54 years with most patients between 47-60 years. RestingBP shows a median around 130mmHg with several high outliers above 175mmHg. Cholesterol has a median near 230mg/dL with multiple outliers above 500mg/dL. MaxHR is normally distributed around 140bpm with few outliers. Oldpeak shows right-skewed distribution with median near 0.8 and multiple outliers above 4.0. There are notable outliers in RestingBP and Cholesterol that might need attention during preprocessing. "
   ]
  },
  {
   "cell_type": "markdown",
   "metadata": {
    "id": "v7VVBP_2JS3_"
   },
   "source": [
    "# Machine Learning Algorithms"
   ]
  },
  {
   "cell_type": "markdown",
   "metadata": {
    "id": "RXadOPDDJS4A"
   },
   "source": [
    "Now we will start implementing our Machine Learning algorithms. Each of us will take one algorithm and we will check the accuracy for each one"
   ]
  },
  {
   "cell_type": "markdown",
   "metadata": {
    "id": "EynDXrqEJS4A"
   },
   "source": [
    "# 1. Random Forest Algorithm"
   ]
  },
  {
   "cell_type": "markdown",
   "metadata": {
    "id": "ETST5NY6JS4A"
   },
   "source": [
    "Random Forest is a machine learning algorithm that combines the output of multiple decision trees to reach a single result. It's particularly effective for both classification and regression problems.\n",
    "\n",
    "**Key Points:**\n",
    "\n",
    "* **Ensemble Learning:** Random Forest uses an ensemble approach, meaning it combines multiple models (decision trees) to make a final prediction.\n",
    "* **Decision Trees:** Each decision tree in the forest makes independent decisions based on a subset of the data and features.\n",
    "* **Randomness:** Randomness is introduced in two ways:\n",
    "    * **Bootstrap Aggregation (Bagging):** Each tree is trained on a random sample of the data with replacement.\n",
    "    * **Feature Randomness:** At each node of a tree, a random subset of features is considered for splitting.\n",
    "* **Prediction:** For classification, the most common class among the trees' predictions is chosen. For regression, the average of the trees' predictions is used.\n",
    "\n",
    "**Advantages:**\n",
    "\n",
    "* **Accuracy:** Random Forest often achieves high accuracy due to its ensemble nature.\n",
    "* **Robustness:** It's less prone to overfitting compared to single decision trees.\n",
    "* **Feature Importance:** It can provide insights into the importance of different features in the data.\n",
    "* **Versatility:** It can handle both numerical and categorical data.\n",
    "\n",
    "**Disadvantages:**\n",
    "\n",
    "* **Complexity:** Random Forest models can be complex and computationally expensive to train.\n",
    "* **Interpretability:** The ensemble nature can make it difficult to interpret individual predictions."
   ]
  },
  {
   "cell_type": "code",
   "execution_count": 265,
   "metadata": {
    "id": "JHitZkOVJS4A"
   },
   "outputs": [],
   "source": [
    "# Now we seperate features and the target variable\n",
    "X = df.drop(\"HeartDisease\", axis=1)\n",
    "y = df[\"HeartDisease\"]"
   ]
  },
  {
   "cell_type": "code",
   "execution_count": 266,
   "metadata": {
    "id": "olJm9q50JS4A"
   },
   "outputs": [],
   "source": [
    "# Encode binary categorical variables\n",
    "# We are importing LabelEncoder from sklearn for this process\n",
    "from sklearn.preprocessing import LabelEncoder\n",
    "\n",
    "binary_columns = [\"Sex\", \"ExerciseAngina\"]\n",
    "label_encoder = LabelEncoder()\n",
    "\n",
    "for column in binary_columns:\n",
    "    X[column] = label_encoder.fit_transform(X[column])"
   ]
  },
  {
   "cell_type": "markdown",
   "metadata": {
    "id": "_hnd2yDOJS4A"
   },
   "source": [
    "Above code converts categorical binary columns (\"Sex\" and \"ExerciseAngina\") in a DataFrame X into numerical values (0 and 1)"
   ]
  },
  {
   "cell_type": "code",
   "execution_count": 267,
   "metadata": {
    "id": "RUz969QnJS4B"
   },
   "outputs": [],
   "source": [
    "# One-hot encode for multi-category categorical variables\n",
    "X = pd.get_dummies(X, columns=[\"ChestPainType\", \"RestingECG\", \"ST_Slope\"], drop_first=True)"
   ]
  },
  {
   "cell_type": "markdown",
   "metadata": {
    "id": "DG6q2XmaJS4B"
   },
   "source": [
    "We can see that ChestPainType, RestingECG and ST_Slope has categorical data. That's why we did one-hot encode to convert categorical data to numerical data so that our model can process the data more easily.  "
   ]
  },
  {
   "cell_type": "code",
   "execution_count": 268,
   "metadata": {
    "colab": {
     "base_uri": "https://localhost:8080/",
     "height": 443
    },
    "id": "nQZxAoVTJS4B",
    "outputId": "a97b09db-d167-46a3-e26b-ff6307a14ea1"
   },
   "outputs": [
    {
     "data": {
      "text/html": [
       "<div>\n",
       "<style scoped>\n",
       "    .dataframe tbody tr th:only-of-type {\n",
       "        vertical-align: middle;\n",
       "    }\n",
       "\n",
       "    .dataframe tbody tr th {\n",
       "        vertical-align: top;\n",
       "    }\n",
       "\n",
       "    .dataframe thead th {\n",
       "        text-align: right;\n",
       "    }\n",
       "</style>\n",
       "<table border=\"1\" class=\"dataframe\">\n",
       "  <thead>\n",
       "    <tr style=\"text-align: right;\">\n",
       "      <th></th>\n",
       "      <th>Age</th>\n",
       "      <th>Sex</th>\n",
       "      <th>RestingBP</th>\n",
       "      <th>Cholesterol</th>\n",
       "      <th>FastingBS</th>\n",
       "      <th>MaxHR</th>\n",
       "      <th>ExerciseAngina</th>\n",
       "      <th>Oldpeak</th>\n",
       "      <th>ChestPainType_ATA</th>\n",
       "      <th>ChestPainType_NAP</th>\n",
       "      <th>ChestPainType_TA</th>\n",
       "      <th>RestingECG_Normal</th>\n",
       "      <th>RestingECG_ST</th>\n",
       "      <th>ST_Slope_Flat</th>\n",
       "      <th>ST_Slope_Up</th>\n",
       "    </tr>\n",
       "  </thead>\n",
       "  <tbody>\n",
       "    <tr>\n",
       "      <th>0</th>\n",
       "      <td>40</td>\n",
       "      <td>1</td>\n",
       "      <td>140</td>\n",
       "      <td>289</td>\n",
       "      <td>0</td>\n",
       "      <td>172</td>\n",
       "      <td>0</td>\n",
       "      <td>0.0</td>\n",
       "      <td>True</td>\n",
       "      <td>False</td>\n",
       "      <td>False</td>\n",
       "      <td>True</td>\n",
       "      <td>False</td>\n",
       "      <td>False</td>\n",
       "      <td>True</td>\n",
       "    </tr>\n",
       "    <tr>\n",
       "      <th>1</th>\n",
       "      <td>49</td>\n",
       "      <td>0</td>\n",
       "      <td>160</td>\n",
       "      <td>180</td>\n",
       "      <td>0</td>\n",
       "      <td>156</td>\n",
       "      <td>0</td>\n",
       "      <td>1.0</td>\n",
       "      <td>False</td>\n",
       "      <td>True</td>\n",
       "      <td>False</td>\n",
       "      <td>True</td>\n",
       "      <td>False</td>\n",
       "      <td>True</td>\n",
       "      <td>False</td>\n",
       "    </tr>\n",
       "    <tr>\n",
       "      <th>2</th>\n",
       "      <td>37</td>\n",
       "      <td>1</td>\n",
       "      <td>130</td>\n",
       "      <td>283</td>\n",
       "      <td>0</td>\n",
       "      <td>98</td>\n",
       "      <td>0</td>\n",
       "      <td>0.0</td>\n",
       "      <td>True</td>\n",
       "      <td>False</td>\n",
       "      <td>False</td>\n",
       "      <td>False</td>\n",
       "      <td>True</td>\n",
       "      <td>False</td>\n",
       "      <td>True</td>\n",
       "    </tr>\n",
       "    <tr>\n",
       "      <th>3</th>\n",
       "      <td>48</td>\n",
       "      <td>0</td>\n",
       "      <td>138</td>\n",
       "      <td>214</td>\n",
       "      <td>0</td>\n",
       "      <td>108</td>\n",
       "      <td>1</td>\n",
       "      <td>1.5</td>\n",
       "      <td>False</td>\n",
       "      <td>False</td>\n",
       "      <td>False</td>\n",
       "      <td>True</td>\n",
       "      <td>False</td>\n",
       "      <td>True</td>\n",
       "      <td>False</td>\n",
       "    </tr>\n",
       "    <tr>\n",
       "      <th>4</th>\n",
       "      <td>54</td>\n",
       "      <td>1</td>\n",
       "      <td>150</td>\n",
       "      <td>195</td>\n",
       "      <td>0</td>\n",
       "      <td>122</td>\n",
       "      <td>0</td>\n",
       "      <td>0.0</td>\n",
       "      <td>False</td>\n",
       "      <td>True</td>\n",
       "      <td>False</td>\n",
       "      <td>True</td>\n",
       "      <td>False</td>\n",
       "      <td>False</td>\n",
       "      <td>True</td>\n",
       "    </tr>\n",
       "    <tr>\n",
       "      <th>...</th>\n",
       "      <td>...</td>\n",
       "      <td>...</td>\n",
       "      <td>...</td>\n",
       "      <td>...</td>\n",
       "      <td>...</td>\n",
       "      <td>...</td>\n",
       "      <td>...</td>\n",
       "      <td>...</td>\n",
       "      <td>...</td>\n",
       "      <td>...</td>\n",
       "      <td>...</td>\n",
       "      <td>...</td>\n",
       "      <td>...</td>\n",
       "      <td>...</td>\n",
       "      <td>...</td>\n",
       "    </tr>\n",
       "    <tr>\n",
       "      <th>913</th>\n",
       "      <td>45</td>\n",
       "      <td>1</td>\n",
       "      <td>110</td>\n",
       "      <td>264</td>\n",
       "      <td>0</td>\n",
       "      <td>132</td>\n",
       "      <td>0</td>\n",
       "      <td>1.2</td>\n",
       "      <td>False</td>\n",
       "      <td>False</td>\n",
       "      <td>True</td>\n",
       "      <td>True</td>\n",
       "      <td>False</td>\n",
       "      <td>True</td>\n",
       "      <td>False</td>\n",
       "    </tr>\n",
       "    <tr>\n",
       "      <th>914</th>\n",
       "      <td>68</td>\n",
       "      <td>1</td>\n",
       "      <td>144</td>\n",
       "      <td>193</td>\n",
       "      <td>1</td>\n",
       "      <td>141</td>\n",
       "      <td>0</td>\n",
       "      <td>3.4</td>\n",
       "      <td>False</td>\n",
       "      <td>False</td>\n",
       "      <td>False</td>\n",
       "      <td>True</td>\n",
       "      <td>False</td>\n",
       "      <td>True</td>\n",
       "      <td>False</td>\n",
       "    </tr>\n",
       "    <tr>\n",
       "      <th>915</th>\n",
       "      <td>57</td>\n",
       "      <td>1</td>\n",
       "      <td>130</td>\n",
       "      <td>131</td>\n",
       "      <td>0</td>\n",
       "      <td>115</td>\n",
       "      <td>1</td>\n",
       "      <td>1.2</td>\n",
       "      <td>False</td>\n",
       "      <td>False</td>\n",
       "      <td>False</td>\n",
       "      <td>True</td>\n",
       "      <td>False</td>\n",
       "      <td>True</td>\n",
       "      <td>False</td>\n",
       "    </tr>\n",
       "    <tr>\n",
       "      <th>916</th>\n",
       "      <td>57</td>\n",
       "      <td>0</td>\n",
       "      <td>130</td>\n",
       "      <td>236</td>\n",
       "      <td>0</td>\n",
       "      <td>174</td>\n",
       "      <td>0</td>\n",
       "      <td>0.0</td>\n",
       "      <td>True</td>\n",
       "      <td>False</td>\n",
       "      <td>False</td>\n",
       "      <td>False</td>\n",
       "      <td>False</td>\n",
       "      <td>True</td>\n",
       "      <td>False</td>\n",
       "    </tr>\n",
       "    <tr>\n",
       "      <th>917</th>\n",
       "      <td>38</td>\n",
       "      <td>1</td>\n",
       "      <td>138</td>\n",
       "      <td>175</td>\n",
       "      <td>0</td>\n",
       "      <td>173</td>\n",
       "      <td>0</td>\n",
       "      <td>0.0</td>\n",
       "      <td>False</td>\n",
       "      <td>True</td>\n",
       "      <td>False</td>\n",
       "      <td>True</td>\n",
       "      <td>False</td>\n",
       "      <td>False</td>\n",
       "      <td>True</td>\n",
       "    </tr>\n",
       "  </tbody>\n",
       "</table>\n",
       "<p>918 rows × 15 columns</p>\n",
       "</div>"
      ],
      "text/plain": [
       "     Age  Sex  RestingBP  Cholesterol  FastingBS  MaxHR  ExerciseAngina  \\\n",
       "0     40    1        140          289          0    172               0   \n",
       "1     49    0        160          180          0    156               0   \n",
       "2     37    1        130          283          0     98               0   \n",
       "3     48    0        138          214          0    108               1   \n",
       "4     54    1        150          195          0    122               0   \n",
       "..   ...  ...        ...          ...        ...    ...             ...   \n",
       "913   45    1        110          264          0    132               0   \n",
       "914   68    1        144          193          1    141               0   \n",
       "915   57    1        130          131          0    115               1   \n",
       "916   57    0        130          236          0    174               0   \n",
       "917   38    1        138          175          0    173               0   \n",
       "\n",
       "     Oldpeak  ChestPainType_ATA  ChestPainType_NAP  ChestPainType_TA  \\\n",
       "0        0.0               True              False             False   \n",
       "1        1.0              False               True             False   \n",
       "2        0.0               True              False             False   \n",
       "3        1.5              False              False             False   \n",
       "4        0.0              False               True             False   \n",
       "..       ...                ...                ...               ...   \n",
       "913      1.2              False              False              True   \n",
       "914      3.4              False              False             False   \n",
       "915      1.2              False              False             False   \n",
       "916      0.0               True              False             False   \n",
       "917      0.0              False               True             False   \n",
       "\n",
       "     RestingECG_Normal  RestingECG_ST  ST_Slope_Flat  ST_Slope_Up  \n",
       "0                 True          False          False         True  \n",
       "1                 True          False           True        False  \n",
       "2                False           True          False         True  \n",
       "3                 True          False           True        False  \n",
       "4                 True          False          False         True  \n",
       "..                 ...            ...            ...          ...  \n",
       "913               True          False           True        False  \n",
       "914               True          False           True        False  \n",
       "915               True          False           True        False  \n",
       "916              False          False           True        False  \n",
       "917               True          False          False         True  \n",
       "\n",
       "[918 rows x 15 columns]"
      ]
     },
     "execution_count": 268,
     "metadata": {},
     "output_type": "execute_result"
    }
   ],
   "source": [
    "X"
   ]
  },
  {
   "cell_type": "markdown",
   "metadata": {
    "id": "lRVLzK_IJS4C"
   },
   "source": [
    "Now we can see our dataset has all numerical values. Which means now we can start working on our model"
   ]
  },
  {
   "cell_type": "code",
   "execution_count": 269,
   "metadata": {
    "id": "K8ANU01qJS4C"
   },
   "outputs": [],
   "source": [
    "# Now we will split the data to train and test using the train_test_split function from scikit-learn\n",
    "from sklearn.model_selection import train_test_split\n",
    "X_train, X_test, y_train, y_test = train_test_split(X, y, test_size=0.2, random_state=123)"
   ]
  },
  {
   "cell_type": "markdown",
   "metadata": {
    "id": "zgsqgZ1EJS4C"
   },
   "source": [
    "Here we are dividing our dataset into train and test splits. After training our data on train dataset we will test it on our test dataset. Here we are training 80% of the dataset and we will test it on rest which is 20% of the dataset. Here ``X_train``, ``X_test``, ``y_train``, ``y_test`` represent training and testing datasets, where:\n",
    "``X_train`` and ``y_train`` (80% of data) are used for model training,\n",
    "``X_test`` and ``y_tes``t (20% of data) are used for evaluating model performance."
   ]
  },
  {
   "cell_type": "code",
   "execution_count": 270,
   "metadata": {
    "colab": {
     "base_uri": "https://localhost:8080/",
     "height": 79
    },
    "id": "3HVgOoJ_JS4C",
    "outputId": "e9ed8f3f-dd80-4cb8-ae2c-a2247a1d103b"
   },
   "outputs": [
    {
     "data": {
      "text/html": [
       "<style>#sk-container-id-6 {\n",
       "  /* Definition of color scheme common for light and dark mode */\n",
       "  --sklearn-color-text: black;\n",
       "  --sklearn-color-line: gray;\n",
       "  /* Definition of color scheme for unfitted estimators */\n",
       "  --sklearn-color-unfitted-level-0: #fff5e6;\n",
       "  --sklearn-color-unfitted-level-1: #f6e4d2;\n",
       "  --sklearn-color-unfitted-level-2: #ffe0b3;\n",
       "  --sklearn-color-unfitted-level-3: chocolate;\n",
       "  /* Definition of color scheme for fitted estimators */\n",
       "  --sklearn-color-fitted-level-0: #f0f8ff;\n",
       "  --sklearn-color-fitted-level-1: #d4ebff;\n",
       "  --sklearn-color-fitted-level-2: #b3dbfd;\n",
       "  --sklearn-color-fitted-level-3: cornflowerblue;\n",
       "\n",
       "  /* Specific color for light theme */\n",
       "  --sklearn-color-text-on-default-background: var(--sg-text-color, var(--theme-code-foreground, var(--jp-content-font-color1, black)));\n",
       "  --sklearn-color-background: var(--sg-background-color, var(--theme-background, var(--jp-layout-color0, white)));\n",
       "  --sklearn-color-border-box: var(--sg-text-color, var(--theme-code-foreground, var(--jp-content-font-color1, black)));\n",
       "  --sklearn-color-icon: #696969;\n",
       "\n",
       "  @media (prefers-color-scheme: dark) {\n",
       "    /* Redefinition of color scheme for dark theme */\n",
       "    --sklearn-color-text-on-default-background: var(--sg-text-color, var(--theme-code-foreground, var(--jp-content-font-color1, white)));\n",
       "    --sklearn-color-background: var(--sg-background-color, var(--theme-background, var(--jp-layout-color0, #111)));\n",
       "    --sklearn-color-border-box: var(--sg-text-color, var(--theme-code-foreground, var(--jp-content-font-color1, white)));\n",
       "    --sklearn-color-icon: #878787;\n",
       "  }\n",
       "}\n",
       "\n",
       "#sk-container-id-6 {\n",
       "  color: var(--sklearn-color-text);\n",
       "}\n",
       "\n",
       "#sk-container-id-6 pre {\n",
       "  padding: 0;\n",
       "}\n",
       "\n",
       "#sk-container-id-6 input.sk-hidden--visually {\n",
       "  border: 0;\n",
       "  clip: rect(1px 1px 1px 1px);\n",
       "  clip: rect(1px, 1px, 1px, 1px);\n",
       "  height: 1px;\n",
       "  margin: -1px;\n",
       "  overflow: hidden;\n",
       "  padding: 0;\n",
       "  position: absolute;\n",
       "  width: 1px;\n",
       "}\n",
       "\n",
       "#sk-container-id-6 div.sk-dashed-wrapped {\n",
       "  border: 1px dashed var(--sklearn-color-line);\n",
       "  margin: 0 0.4em 0.5em 0.4em;\n",
       "  box-sizing: border-box;\n",
       "  padding-bottom: 0.4em;\n",
       "  background-color: var(--sklearn-color-background);\n",
       "}\n",
       "\n",
       "#sk-container-id-6 div.sk-container {\n",
       "  /* jupyter's `normalize.less` sets `[hidden] { display: none; }`\n",
       "     but bootstrap.min.css set `[hidden] { display: none !important; }`\n",
       "     so we also need the `!important` here to be able to override the\n",
       "     default hidden behavior on the sphinx rendered scikit-learn.org.\n",
       "     See: https://github.com/scikit-learn/scikit-learn/issues/21755 */\n",
       "  display: inline-block !important;\n",
       "  position: relative;\n",
       "}\n",
       "\n",
       "#sk-container-id-6 div.sk-text-repr-fallback {\n",
       "  display: none;\n",
       "}\n",
       "\n",
       "div.sk-parallel-item,\n",
       "div.sk-serial,\n",
       "div.sk-item {\n",
       "  /* draw centered vertical line to link estimators */\n",
       "  background-image: linear-gradient(var(--sklearn-color-text-on-default-background), var(--sklearn-color-text-on-default-background));\n",
       "  background-size: 2px 100%;\n",
       "  background-repeat: no-repeat;\n",
       "  background-position: center center;\n",
       "}\n",
       "\n",
       "/* Parallel-specific style estimator block */\n",
       "\n",
       "#sk-container-id-6 div.sk-parallel-item::after {\n",
       "  content: \"\";\n",
       "  width: 100%;\n",
       "  border-bottom: 2px solid var(--sklearn-color-text-on-default-background);\n",
       "  flex-grow: 1;\n",
       "}\n",
       "\n",
       "#sk-container-id-6 div.sk-parallel {\n",
       "  display: flex;\n",
       "  align-items: stretch;\n",
       "  justify-content: center;\n",
       "  background-color: var(--sklearn-color-background);\n",
       "  position: relative;\n",
       "}\n",
       "\n",
       "#sk-container-id-6 div.sk-parallel-item {\n",
       "  display: flex;\n",
       "  flex-direction: column;\n",
       "}\n",
       "\n",
       "#sk-container-id-6 div.sk-parallel-item:first-child::after {\n",
       "  align-self: flex-end;\n",
       "  width: 50%;\n",
       "}\n",
       "\n",
       "#sk-container-id-6 div.sk-parallel-item:last-child::after {\n",
       "  align-self: flex-start;\n",
       "  width: 50%;\n",
       "}\n",
       "\n",
       "#sk-container-id-6 div.sk-parallel-item:only-child::after {\n",
       "  width: 0;\n",
       "}\n",
       "\n",
       "/* Serial-specific style estimator block */\n",
       "\n",
       "#sk-container-id-6 div.sk-serial {\n",
       "  display: flex;\n",
       "  flex-direction: column;\n",
       "  align-items: center;\n",
       "  background-color: var(--sklearn-color-background);\n",
       "  padding-right: 1em;\n",
       "  padding-left: 1em;\n",
       "}\n",
       "\n",
       "\n",
       "/* Toggleable style: style used for estimator/Pipeline/ColumnTransformer box that is\n",
       "clickable and can be expanded/collapsed.\n",
       "- Pipeline and ColumnTransformer use this feature and define the default style\n",
       "- Estimators will overwrite some part of the style using the `sk-estimator` class\n",
       "*/\n",
       "\n",
       "/* Pipeline and ColumnTransformer style (default) */\n",
       "\n",
       "#sk-container-id-6 div.sk-toggleable {\n",
       "  /* Default theme specific background. It is overwritten whether we have a\n",
       "  specific estimator or a Pipeline/ColumnTransformer */\n",
       "  background-color: var(--sklearn-color-background);\n",
       "}\n",
       "\n",
       "/* Toggleable label */\n",
       "#sk-container-id-6 label.sk-toggleable__label {\n",
       "  cursor: pointer;\n",
       "  display: block;\n",
       "  width: 100%;\n",
       "  margin-bottom: 0;\n",
       "  padding: 0.5em;\n",
       "  box-sizing: border-box;\n",
       "  text-align: center;\n",
       "}\n",
       "\n",
       "#sk-container-id-6 label.sk-toggleable__label-arrow:before {\n",
       "  /* Arrow on the left of the label */\n",
       "  content: \"▸\";\n",
       "  float: left;\n",
       "  margin-right: 0.25em;\n",
       "  color: var(--sklearn-color-icon);\n",
       "}\n",
       "\n",
       "#sk-container-id-6 label.sk-toggleable__label-arrow:hover:before {\n",
       "  color: var(--sklearn-color-text);\n",
       "}\n",
       "\n",
       "/* Toggleable content - dropdown */\n",
       "\n",
       "#sk-container-id-6 div.sk-toggleable__content {\n",
       "  max-height: 0;\n",
       "  max-width: 0;\n",
       "  overflow: hidden;\n",
       "  text-align: left;\n",
       "  /* unfitted */\n",
       "  background-color: var(--sklearn-color-unfitted-level-0);\n",
       "}\n",
       "\n",
       "#sk-container-id-6 div.sk-toggleable__content.fitted {\n",
       "  /* fitted */\n",
       "  background-color: var(--sklearn-color-fitted-level-0);\n",
       "}\n",
       "\n",
       "#sk-container-id-6 div.sk-toggleable__content pre {\n",
       "  margin: 0.2em;\n",
       "  border-radius: 0.25em;\n",
       "  color: var(--sklearn-color-text);\n",
       "  /* unfitted */\n",
       "  background-color: var(--sklearn-color-unfitted-level-0);\n",
       "}\n",
       "\n",
       "#sk-container-id-6 div.sk-toggleable__content.fitted pre {\n",
       "  /* unfitted */\n",
       "  background-color: var(--sklearn-color-fitted-level-0);\n",
       "}\n",
       "\n",
       "#sk-container-id-6 input.sk-toggleable__control:checked~div.sk-toggleable__content {\n",
       "  /* Expand drop-down */\n",
       "  max-height: 200px;\n",
       "  max-width: 100%;\n",
       "  overflow: auto;\n",
       "}\n",
       "\n",
       "#sk-container-id-6 input.sk-toggleable__control:checked~label.sk-toggleable__label-arrow:before {\n",
       "  content: \"▾\";\n",
       "}\n",
       "\n",
       "/* Pipeline/ColumnTransformer-specific style */\n",
       "\n",
       "#sk-container-id-6 div.sk-label input.sk-toggleable__control:checked~label.sk-toggleable__label {\n",
       "  color: var(--sklearn-color-text);\n",
       "  background-color: var(--sklearn-color-unfitted-level-2);\n",
       "}\n",
       "\n",
       "#sk-container-id-6 div.sk-label.fitted input.sk-toggleable__control:checked~label.sk-toggleable__label {\n",
       "  background-color: var(--sklearn-color-fitted-level-2);\n",
       "}\n",
       "\n",
       "/* Estimator-specific style */\n",
       "\n",
       "/* Colorize estimator box */\n",
       "#sk-container-id-6 div.sk-estimator input.sk-toggleable__control:checked~label.sk-toggleable__label {\n",
       "  /* unfitted */\n",
       "  background-color: var(--sklearn-color-unfitted-level-2);\n",
       "}\n",
       "\n",
       "#sk-container-id-6 div.sk-estimator.fitted input.sk-toggleable__control:checked~label.sk-toggleable__label {\n",
       "  /* fitted */\n",
       "  background-color: var(--sklearn-color-fitted-level-2);\n",
       "}\n",
       "\n",
       "#sk-container-id-6 div.sk-label label.sk-toggleable__label,\n",
       "#sk-container-id-6 div.sk-label label {\n",
       "  /* The background is the default theme color */\n",
       "  color: var(--sklearn-color-text-on-default-background);\n",
       "}\n",
       "\n",
       "/* On hover, darken the color of the background */\n",
       "#sk-container-id-6 div.sk-label:hover label.sk-toggleable__label {\n",
       "  color: var(--sklearn-color-text);\n",
       "  background-color: var(--sklearn-color-unfitted-level-2);\n",
       "}\n",
       "\n",
       "/* Label box, darken color on hover, fitted */\n",
       "#sk-container-id-6 div.sk-label.fitted:hover label.sk-toggleable__label.fitted {\n",
       "  color: var(--sklearn-color-text);\n",
       "  background-color: var(--sklearn-color-fitted-level-2);\n",
       "}\n",
       "\n",
       "/* Estimator label */\n",
       "\n",
       "#sk-container-id-6 div.sk-label label {\n",
       "  font-family: monospace;\n",
       "  font-weight: bold;\n",
       "  display: inline-block;\n",
       "  line-height: 1.2em;\n",
       "}\n",
       "\n",
       "#sk-container-id-6 div.sk-label-container {\n",
       "  text-align: center;\n",
       "}\n",
       "\n",
       "/* Estimator-specific */\n",
       "#sk-container-id-6 div.sk-estimator {\n",
       "  font-family: monospace;\n",
       "  border: 1px dotted var(--sklearn-color-border-box);\n",
       "  border-radius: 0.25em;\n",
       "  box-sizing: border-box;\n",
       "  margin-bottom: 0.5em;\n",
       "  /* unfitted */\n",
       "  background-color: var(--sklearn-color-unfitted-level-0);\n",
       "}\n",
       "\n",
       "#sk-container-id-6 div.sk-estimator.fitted {\n",
       "  /* fitted */\n",
       "  background-color: var(--sklearn-color-fitted-level-0);\n",
       "}\n",
       "\n",
       "/* on hover */\n",
       "#sk-container-id-6 div.sk-estimator:hover {\n",
       "  /* unfitted */\n",
       "  background-color: var(--sklearn-color-unfitted-level-2);\n",
       "}\n",
       "\n",
       "#sk-container-id-6 div.sk-estimator.fitted:hover {\n",
       "  /* fitted */\n",
       "  background-color: var(--sklearn-color-fitted-level-2);\n",
       "}\n",
       "\n",
       "/* Specification for estimator info (e.g. \"i\" and \"?\") */\n",
       "\n",
       "/* Common style for \"i\" and \"?\" */\n",
       "\n",
       ".sk-estimator-doc-link,\n",
       "a:link.sk-estimator-doc-link,\n",
       "a:visited.sk-estimator-doc-link {\n",
       "  float: right;\n",
       "  font-size: smaller;\n",
       "  line-height: 1em;\n",
       "  font-family: monospace;\n",
       "  background-color: var(--sklearn-color-background);\n",
       "  border-radius: 1em;\n",
       "  height: 1em;\n",
       "  width: 1em;\n",
       "  text-decoration: none !important;\n",
       "  margin-left: 1ex;\n",
       "  /* unfitted */\n",
       "  border: var(--sklearn-color-unfitted-level-1) 1pt solid;\n",
       "  color: var(--sklearn-color-unfitted-level-1);\n",
       "}\n",
       "\n",
       ".sk-estimator-doc-link.fitted,\n",
       "a:link.sk-estimator-doc-link.fitted,\n",
       "a:visited.sk-estimator-doc-link.fitted {\n",
       "  /* fitted */\n",
       "  border: var(--sklearn-color-fitted-level-1) 1pt solid;\n",
       "  color: var(--sklearn-color-fitted-level-1);\n",
       "}\n",
       "\n",
       "/* On hover */\n",
       "div.sk-estimator:hover .sk-estimator-doc-link:hover,\n",
       ".sk-estimator-doc-link:hover,\n",
       "div.sk-label-container:hover .sk-estimator-doc-link:hover,\n",
       ".sk-estimator-doc-link:hover {\n",
       "  /* unfitted */\n",
       "  background-color: var(--sklearn-color-unfitted-level-3);\n",
       "  color: var(--sklearn-color-background);\n",
       "  text-decoration: none;\n",
       "}\n",
       "\n",
       "div.sk-estimator.fitted:hover .sk-estimator-doc-link.fitted:hover,\n",
       ".sk-estimator-doc-link.fitted:hover,\n",
       "div.sk-label-container:hover .sk-estimator-doc-link.fitted:hover,\n",
       ".sk-estimator-doc-link.fitted:hover {\n",
       "  /* fitted */\n",
       "  background-color: var(--sklearn-color-fitted-level-3);\n",
       "  color: var(--sklearn-color-background);\n",
       "  text-decoration: none;\n",
       "}\n",
       "\n",
       "/* Span, style for the box shown on hovering the info icon */\n",
       ".sk-estimator-doc-link span {\n",
       "  display: none;\n",
       "  z-index: 9999;\n",
       "  position: relative;\n",
       "  font-weight: normal;\n",
       "  right: .2ex;\n",
       "  padding: .5ex;\n",
       "  margin: .5ex;\n",
       "  width: min-content;\n",
       "  min-width: 20ex;\n",
       "  max-width: 50ex;\n",
       "  color: var(--sklearn-color-text);\n",
       "  box-shadow: 2pt 2pt 4pt #999;\n",
       "  /* unfitted */\n",
       "  background: var(--sklearn-color-unfitted-level-0);\n",
       "  border: .5pt solid var(--sklearn-color-unfitted-level-3);\n",
       "}\n",
       "\n",
       ".sk-estimator-doc-link.fitted span {\n",
       "  /* fitted */\n",
       "  background: var(--sklearn-color-fitted-level-0);\n",
       "  border: var(--sklearn-color-fitted-level-3);\n",
       "}\n",
       "\n",
       ".sk-estimator-doc-link:hover span {\n",
       "  display: block;\n",
       "}\n",
       "\n",
       "/* \"?\"-specific style due to the `<a>` HTML tag */\n",
       "\n",
       "#sk-container-id-6 a.estimator_doc_link {\n",
       "  float: right;\n",
       "  font-size: 1rem;\n",
       "  line-height: 1em;\n",
       "  font-family: monospace;\n",
       "  background-color: var(--sklearn-color-background);\n",
       "  border-radius: 1rem;\n",
       "  height: 1rem;\n",
       "  width: 1rem;\n",
       "  text-decoration: none;\n",
       "  /* unfitted */\n",
       "  color: var(--sklearn-color-unfitted-level-1);\n",
       "  border: var(--sklearn-color-unfitted-level-1) 1pt solid;\n",
       "}\n",
       "\n",
       "#sk-container-id-6 a.estimator_doc_link.fitted {\n",
       "  /* fitted */\n",
       "  border: var(--sklearn-color-fitted-level-1) 1pt solid;\n",
       "  color: var(--sklearn-color-fitted-level-1);\n",
       "}\n",
       "\n",
       "/* On hover */\n",
       "#sk-container-id-6 a.estimator_doc_link:hover {\n",
       "  /* unfitted */\n",
       "  background-color: var(--sklearn-color-unfitted-level-3);\n",
       "  color: var(--sklearn-color-background);\n",
       "  text-decoration: none;\n",
       "}\n",
       "\n",
       "#sk-container-id-6 a.estimator_doc_link.fitted:hover {\n",
       "  /* fitted */\n",
       "  background-color: var(--sklearn-color-fitted-level-3);\n",
       "}\n",
       "</style><div id=\"sk-container-id-6\" class=\"sk-top-container\"><div class=\"sk-text-repr-fallback\"><pre>RandomForestClassifier(random_state=123)</pre><b>In a Jupyter environment, please rerun this cell to show the HTML representation or trust the notebook. <br />On GitHub, the HTML representation is unable to render, please try loading this page with nbviewer.org.</b></div><div class=\"sk-container\" hidden><div class=\"sk-item\"><div class=\"sk-estimator fitted sk-toggleable\"><input class=\"sk-toggleable__control sk-hidden--visually\" id=\"sk-estimator-id-6\" type=\"checkbox\" checked><label for=\"sk-estimator-id-6\" class=\"sk-toggleable__label fitted sk-toggleable__label-arrow fitted\">&nbsp;&nbsp;RandomForestClassifier<a class=\"sk-estimator-doc-link fitted\" rel=\"noreferrer\" target=\"_blank\" href=\"https://scikit-learn.org/1.5/modules/generated/sklearn.ensemble.RandomForestClassifier.html\">?<span>Documentation for RandomForestClassifier</span></a><span class=\"sk-estimator-doc-link fitted\">i<span>Fitted</span></span></label><div class=\"sk-toggleable__content fitted\"><pre>RandomForestClassifier(random_state=123)</pre></div> </div></div></div></div>"
      ],
      "text/plain": [
       "RandomForestClassifier(random_state=123)"
      ]
     },
     "execution_count": 270,
     "metadata": {},
     "output_type": "execute_result"
    }
   ],
   "source": [
    "# Initialize and train the model we\n",
    "# Import the randomForestClassifier from scikitlearn module\n",
    "from sklearn.ensemble import RandomForestClassifier\n",
    "\n",
    "rf_model = RandomForestClassifier(random_state=123)\n",
    "rf_model.fit(X_train, y_train)"
   ]
  },
  {
   "cell_type": "markdown",
   "metadata": {
    "id": "4XYObxX8JS4D"
   },
   "source": [
    "One important to note here is that we have selected ``random_seed=123`` because of reproducibility or we will be getting different accuracy everytime we run the model"
   ]
  },
  {
   "cell_type": "markdown",
   "metadata": {
    "id": "HUpjEb00JS4D"
   },
   "source": [
    "## Now we can evaluate the model"
   ]
  },
  {
   "cell_type": "code",
   "execution_count": 271,
   "metadata": {
    "colab": {
     "base_uri": "https://localhost:8080/"
    },
    "id": "kn-hd5_mJS4D",
    "outputId": "8f311f64-f9a6-41f3-9d8e-f44fa518a41d"
   },
   "outputs": [
    {
     "name": "stdout",
     "output_type": "stream",
     "text": [
      "Test Accuracy: 0.8641\n"
     ]
    }
   ],
   "source": [
    "# We are calculating the model's accuracy on test data using the .score()\n",
    "test_score = rf_model.score(X_test, y_test)\n",
    "\n",
    "# Print test accuracy with 4 decimal places\n",
    "print(f\"Test Accuracy: {test_score:.4f}\")"
   ]
  },
  {
   "cell_type": "markdown",
   "metadata": {
    "id": "ma_H5cnnJS4D"
   },
   "source": [
    "Our Random Forest model got an accuracy of ``0.8641%``"
   ]
  },
  {
   "cell_type": "markdown",
   "metadata": {
    "id": "UcHLqjLVJS4D"
   },
   "source": [
    "## Confusion Matrix for Random Forest"
   ]
  },
  {
   "cell_type": "code",
   "execution_count": 272,
   "metadata": {
    "colab": {
     "base_uri": "https://localhost:8080/",
     "height": 489
    },
    "id": "O9_rGSw6JS4D",
    "outputId": "9803719b-b5f3-413e-93ac-5a5e41b2eaf7"
   },
   "outputs": [
    {
     "data": {
      "text/plain": [
       "<Figure size 800x600 with 0 Axes>"
      ]
     },
     "metadata": {},
     "output_type": "display_data"
    },
    {
     "data": {
      "image/png": "[encoded data removed]",
      "text/plain": [
       "<Figure size 640x480 with 2 Axes>"
      ]
     },
     "metadata": {},
     "output_type": "display_data"
    }
   ],
   "source": [
    "from sklearn.metrics import confusion_matrix, ConfusionMatrixDisplay\n",
    "\n",
    "# Predict the labels for test data\n",
    "y_pred = rf_model.predict(X_test)\n",
    "\n",
    "# Create confusion matrix comparing true labels and predictions\n",
    "cm = confusion_matrix(y_test, y_pred)\n",
    "\n",
    "\n",
    "plt.figure(figsize=(8, 6))  # Initialize plot with specified size\n",
    "ConfusionMatrixDisplay(cm).plot(cmap=\"Blues\")   # We have plot the confusion matric with color blue\n",
    "plt.title(\"Confusion Matrix\")\n",
    "plt.show()"
   ]
  },
  {
   "cell_type": "markdown",
   "metadata": {
    "id": "P6seAk_7JS4E"
   },
   "source": [
    "* **True Positives (95)**: Correctly identified heart disease cases.\n",
    "* **True Negatives (64)**: Correctly identified non-heart disease cases.\n",
    "* **False Positives (17)**: Non-heart disease cases incorrectly classified as heart disease.\n",
    "* **False Negatives (8)**: Heart disease cases missed by the model.\n",
    "\n",
    "The model is effective in detecting heart disease with high true positives and low false negatives, but it has some tendency for false positives, leading to a moderate over-prediction of heart disease."
   ]
  },
  {
   "cell_type": "markdown",
   "metadata": {
    "id": "HLsKb_u8JS4E"
   },
   "source": [
    "## Classification Report for Random Forest"
   ]
  },
  {
   "cell_type": "code",
   "execution_count": 273,
   "metadata": {
    "colab": {
     "base_uri": "https://localhost:8080/"
    },
    "id": "CTp5zLaYJS4E",
    "outputId": "6a0e7029-d405-4901-f937-2883524fda03"
   },
   "outputs": [
    {
     "name": "stdout",
     "output_type": "stream",
     "text": [
      "                  precision    recall  f1-score   support\n",
      "\n",
      "No Heart Disease       0.89      0.79      0.84        81\n",
      "   Heart Disease       0.85      0.92      0.88       103\n",
      "\n",
      "        accuracy                           0.86       184\n",
      "       macro avg       0.87      0.86      0.86       184\n",
      "    weighted avg       0.87      0.86      0.86       184\n",
      "\n"
     ]
    }
   ],
   "source": [
    "from sklearn.metrics import classification_report\n",
    "\n",
    "# Predict labels for test data\n",
    "y_pred = rf_model.predict(X_test)\n",
    "\n",
    "# Generate the classification report\n",
    "report = classification_report(y_test, y_pred, target_names=[\"No Heart Disease\", \"Heart Disease\"])\n",
    "print(report)"
   ]
  },
  {
   "cell_type": "markdown",
   "metadata": {
    "id": "oPV7CjBwJS4E"
   },
   "source": [
    "* Precision: 89% for No Heart Disease, 85% for Heart Disease.\n",
    "* Recall: 79% for No Heart Disease, 92% for Heart Disease.\n",
    "* F1-score: Balanced performance with 0.84 for No Heart Disease and 0.88 for Heart Disease.\n",
    "* Accuracy: Overall 86%.\n",
    "* Macro avg: Indicates balanced performance across classes.\n",
    "* Weighted avg: 86%, confirming strong overall accuracy.\n",
    "\n",
    "Hence, this model shows strong performance as it has high recall and F1-score."
   ]
  },
  {
   "cell_type": "markdown",
   "metadata": {
    "id": "0Ro-kOfKJS4E"
   },
   "source": [
    "## Feature Importance Plot"
   ]
  },
  {
   "cell_type": "code",
   "execution_count": 274,
   "metadata": {
    "colab": {
     "base_uri": "https://localhost:8080/",
     "height": 718
    },
    "id": "QVIQ9bdSJS4E",
    "outputId": "80a73357-6e7f-4c9c-bf40-c451cef453ac"
   },
   "outputs": [
    {
     "data": {
      "image/png": "[encoded data removed]",
      "text/plain": [
       "<Figure size 1000x800 with 1 Axes>"
      ]
     },
     "metadata": {},
     "output_type": "display_data"
    }
   ],
   "source": [
    "# Extract feature importances from Random Forest model\n",
    "feature_importances = rf_model.feature_importances_\n",
    "\n",
    "# Get feature names from DataFrame\n",
    "features = X.columns\n",
    "\n",
    "# Create DataFrame with feature names and importances\n",
    "importance_df = pd.DataFrame({\"Feature\": features, \"Importance\": feature_importances})\n",
    "\n",
    "# Sort DataFrame by importance in descending order\n",
    "importance_df = importance_df.sort_values(by=\"Importance\", ascending=False)\n",
    "\n",
    "# Initialize plot with specified size\n",
    "plt.figure(figsize=(10, 8))\n",
    "\n",
    "# Plot feature importances as a bar chart\n",
    "sns.barplot(x=\"Importance\", y=\"Feature\", data=importance_df)\n",
    "plt.title(\"Feature Importance in Random Forest Model\")\n",
    "plt.show()"
   ]
  },
  {
   "cell_type": "markdown",
   "metadata": {
    "id": "uhY5qkEeJS4F"
   },
   "source": [
    "From the above feature importance plot figure we can say that Random Forest model shows that `ST_Slope_Up` is the most influential feature in predicting heart disease, followed closely by `MaxHR` and `Oldpeak`. `Cholesterol` and `ST_Slope_Flat` also play significant roles, indicating that heart-related metrics and ST segment changes are strong indicators in the model. Lower-ranked features, like `ChestPainType_TA` and `RestingECG_ST`, contribute less, suggesting they have minimal impact on the model’s predictions."
   ]
  },
  {
   "cell_type": "markdown",
   "metadata": {},
   "source": [
    "# 2. Logistic Regression\n",
    "\n",
    "The next algorithm we will explore is the logistic regression algorithm. In our case, we want to predict a patient's risk of having heart disease, so we will take HeartDisease as our response variable, y. Since this response has 2 levels, we will perform binary logistic regression. The algorithm will be trained to propose a probability for each outcome {0,1}, given a set of explanatory variables (x1,...,x11), then use a cutoff point to assign a label 0 or 1 to this probability. As a result, we can treat this as more of a classification problem, where we want to classify a patient into two groups, given the results of several medical tests."
   ]
  },
  {
   "cell_type": "code",
   "execution_count": 275,
   "metadata": {},
   "outputs": [],
   "source": [
    "## Reset the dataframe to the original for a new algorithm\n",
    "df = pd.read_csv(\"heart.csv\")"
   ]
  },
  {
   "cell_type": "markdown",
   "metadata": {},
   "source": [
    "## Pre-processing the data "
   ]
  },
  {
   "cell_type": "markdown",
   "metadata": {},
   "source": [
    "As we saw in the exploratory data analysis, we have zero values in both Cholesterol and RestingBP columns. These are not valid measurements for these variables, and we will explore this in more detail in the write up. For this algorithm, we will deal with these by replacing zero values with the median of that column - note that this median value is calculated with the zeroes still in the column."
   ]
  },
  {
   "cell_type": "code",
   "execution_count": 276,
   "metadata": {},
   "outputs": [
    {
     "name": "stdout",
     "output_type": "stream",
     "text": [
      "0 zero values in Age column\n",
      "0 zero values in Sex column\n",
      "0 zero values in ChestPainType column\n",
      "1 zero values in RestingBP column\n",
      "172 zero values in Cholesterol column\n",
      "704 zero values in FastingBS column\n",
      "0 zero values in RestingECG column\n",
      "0 zero values in MaxHR column\n",
      "0 zero values in ExerciseAngina column\n",
      "368 zero values in Oldpeak column\n",
      "0 zero values in ST_Slope column\n",
      "410 zero values in HeartDisease column\n"
     ]
    }
   ],
   "source": [
    "## Checking each column for zeroes that are present in the graphs\n",
    "\n",
    "for i in df.columns:\n",
    "  print(\"{} zero values in {} column\".format(sum(df[i] == 0), i))"
   ]
  },
  {
   "cell_type": "code",
   "execution_count": 277,
   "metadata": {},
   "outputs": [
    {
     "name": "stdout",
     "output_type": "stream",
     "text": [
      "0 zero values in Cholesterol column\n",
      "0 zero values in RestingBP column\n"
     ]
    }
   ],
   "source": [
    "## Calculate the median from each column we need to alter, note zero values included in calc.\n",
    "medianC = df['Cholesterol'].median()\n",
    "medianRBP = df['RestingBP'].median()\n",
    "\n",
    "## Locate and replace zero values with respective median value\n",
    "df.loc[df['Cholesterol'] == 0, 'Cholesterol'] = medianC\n",
    "df.loc[df['RestingBP'] == 0, 'RestingBP'] = medianRBP\n",
    "\n",
    "## Confirm zero values replaced\n",
    "print(\"{} zero values in Cholesterol column\".format(sum(df['Cholesterol'] == 0)))\n",
    "print(\"{} zero values in RestingBP column\".format(sum(df['RestingBP'] == 0)))\n"
   ]
  },
  {
   "cell_type": "markdown",
   "metadata": {},
   "source": [
    "Next we handle the explanatory variables and transform them to be used in the logistic regression algorithm. For quantitative variables, we will standardise for easier interpretation of coefficients in the model. For categorical variables, call each variable a 'factor' with levels, e.g Sex is a factor with two levels - male and female. One level of the factor will be the 'reference' and will not have a column in our new dataframe, the rest of the levels will have their own column, with a 1 in the rows where that level is present. "
   ]
  },
  {
   "cell_type": "code",
   "execution_count": 278,
   "metadata": {},
   "outputs": [],
   "source": [
    "\n",
    "## List of columns with categorical data\n",
    "cat_cols = ['Sex', 'ChestPainType', 'FastingBS', 'RestingECG', 'ExerciseAngina', 'ST_Slope']\n",
    "\n",
    "## Go through each categorical column and create new column with {1,0} values, drop_first = True will create a 'reference' level (See above)\n",
    "count = 0\n",
    "for col in cat_cols:\n",
    "  df = pd.get_dummies(df, columns=[col], dtype = int, drop_first = True)\n",
    "  count += 1\n",
    "\n",
    "## List of columns with quantatative data\n",
    "cont_cols = ['Age', 'RestingBP', 'Cholesterol', 'MaxHR', 'Oldpeak']\n",
    "\n",
    "## Standardise quantatative by subtracting mean and dividing by standard deviation, each variable has mean = 0, variance = 1\n",
    "for col in cont_cols:\n",
    "  df[col] = (df[col] - df[col].mean()) / np.sqrt(np.var(df[col]))"
   ]
  },
  {
   "cell_type": "markdown",
   "metadata": {},
   "source": [
    "## Logistic regression model\n",
    "\n",
    "We will utilise the scikit-learn package to create our logistic regression model. The first step is to split our data into our explanatory variables X, and the response variable y. Sklearn's LogisticRegression() can accept a dataframe as values for X and y, so not much manipulation is needed here:"
   ]
  },
  {
   "cell_type": "code",
   "execution_count": 279,
   "metadata": {},
   "outputs": [],
   "source": [
    "X = df.drop('HeartDisease', axis = 1)\n",
    "y = df.HeartDisease"
   ]
  },
  {
   "cell_type": "markdown",
   "metadata": {},
   "source": [
    "As before, we can now split our data into training data and test data. Note here the random state used, and proportions of the data to be used as test data, this will be the same for each algorithm within this project, so that we can compare fairly."
   ]
  },
  {
   "cell_type": "code",
   "execution_count": 280,
   "metadata": {},
   "outputs": [],
   "source": [
    "from sklearn.model_selection import train_test_split"
   ]
  },
  {
   "cell_type": "code",
   "execution_count": 281,
   "metadata": {},
   "outputs": [],
   "source": [
    "X_train, X_test, y_train, y_test = train_test_split(X, y, test_size=0.2, random_state = 123)"
   ]
  },
  {
   "cell_type": "markdown",
   "metadata": {},
   "source": [
    "We can now instantiate a logistic regression model using LogisticRegression from scikit-learn. We then fit the training data to the model, using the default parameters provided with the class."
   ]
  },
  {
   "cell_type": "code",
   "execution_count": 282,
   "metadata": {},
   "outputs": [],
   "source": [
    "from sklearn import linear_model"
   ]
  },
  {
   "cell_type": "code",
   "execution_count": 283,
   "metadata": {},
   "outputs": [
    {
     "data": {
      "text/html": [
       "<style>#sk-container-id-7 {\n",
       "  /* Definition of color scheme common for light and dark mode */\n",
       "  --sklearn-color-text: black;\n",
       "  --sklearn-color-line: gray;\n",
       "  /* Definition of color scheme for unfitted estimators */\n",
       "  --sklearn-color-unfitted-level-0: #fff5e6;\n",
       "  --sklearn-color-unfitted-level-1: #f6e4d2;\n",
       "  --sklearn-color-unfitted-level-2: #ffe0b3;\n",
       "  --sklearn-color-unfitted-level-3: chocolate;\n",
       "  /* Definition of color scheme for fitted estimators */\n",
       "  --sklearn-color-fitted-level-0: #f0f8ff;\n",
       "  --sklearn-color-fitted-level-1: #d4ebff;\n",
       "  --sklearn-color-fitted-level-2: #b3dbfd;\n",
       "  --sklearn-color-fitted-level-3: cornflowerblue;\n",
       "\n",
       "  /* Specific color for light theme */\n",
       "  --sklearn-color-text-on-default-background: var(--sg-text-color, var(--theme-code-foreground, var(--jp-content-font-color1, black)));\n",
       "  --sklearn-color-background: var(--sg-background-color, var(--theme-background, var(--jp-layout-color0, white)));\n",
       "  --sklearn-color-border-box: var(--sg-text-color, var(--theme-code-foreground, var(--jp-content-font-color1, black)));\n",
       "  --sklearn-color-icon: #696969;\n",
       "\n",
       "  @media (prefers-color-scheme: dark) {\n",
       "    /* Redefinition of color scheme for dark theme */\n",
       "    --sklearn-color-text-on-default-background: var(--sg-text-color, var(--theme-code-foreground, var(--jp-content-font-color1, white)));\n",
       "    --sklearn-color-background: var(--sg-background-color, var(--theme-background, var(--jp-layout-color0, #111)));\n",
       "    --sklearn-color-border-box: var(--sg-text-color, var(--theme-code-foreground, var(--jp-content-font-color1, white)));\n",
       "    --sklearn-color-icon: #878787;\n",
       "  }\n",
       "}\n",
       "\n",
       "#sk-container-id-7 {\n",
       "  color: var(--sklearn-color-text);\n",
       "}\n",
       "\n",
       "#sk-container-id-7 pre {\n",
       "  padding: 0;\n",
       "}\n",
       "\n",
       "#sk-container-id-7 input.sk-hidden--visually {\n",
       "  border: 0;\n",
       "  clip: rect(1px 1px 1px 1px);\n",
       "  clip: rect(1px, 1px, 1px, 1px);\n",
       "  height: 1px;\n",
       "  margin: -1px;\n",
       "  overflow: hidden;\n",
       "  padding: 0;\n",
       "  position: absolute;\n",
       "  width: 1px;\n",
       "}\n",
       "\n",
       "#sk-container-id-7 div.sk-dashed-wrapped {\n",
       "  border: 1px dashed var(--sklearn-color-line);\n",
       "  margin: 0 0.4em 0.5em 0.4em;\n",
       "  box-sizing: border-box;\n",
       "  padding-bottom: 0.4em;\n",
       "  background-color: var(--sklearn-color-background);\n",
       "}\n",
       "\n",
       "#sk-container-id-7 div.sk-container {\n",
       "  /* jupyter's `normalize.less` sets `[hidden] { display: none; }`\n",
       "     but bootstrap.min.css set `[hidden] { display: none !important; }`\n",
       "     so we also need the `!important` here to be able to override the\n",
       "     default hidden behavior on the sphinx rendered scikit-learn.org.\n",
       "     See: https://github.com/scikit-learn/scikit-learn/issues/21755 */\n",
       "  display: inline-block !important;\n",
       "  position: relative;\n",
       "}\n",
       "\n",
       "#sk-container-id-7 div.sk-text-repr-fallback {\n",
       "  display: none;\n",
       "}\n",
       "\n",
       "div.sk-parallel-item,\n",
       "div.sk-serial,\n",
       "div.sk-item {\n",
       "  /* draw centered vertical line to link estimators */\n",
       "  background-image: linear-gradient(var(--sklearn-color-text-on-default-background), var(--sklearn-color-text-on-default-background));\n",
       "  background-size: 2px 100%;\n",
       "  background-repeat: no-repeat;\n",
       "  background-position: center center;\n",
       "}\n",
       "\n",
       "/* Parallel-specific style estimator block */\n",
       "\n",
       "#sk-container-id-7 div.sk-parallel-item::after {\n",
       "  content: \"\";\n",
       "  width: 100%;\n",
       "  border-bottom: 2px solid var(--sklearn-color-text-on-default-background);\n",
       "  flex-grow: 1;\n",
       "}\n",
       "\n",
       "#sk-container-id-7 div.sk-parallel {\n",
       "  display: flex;\n",
       "  align-items: stretch;\n",
       "  justify-content: center;\n",
       "  background-color: var(--sklearn-color-background);\n",
       "  position: relative;\n",
       "}\n",
       "\n",
       "#sk-container-id-7 div.sk-parallel-item {\n",
       "  display: flex;\n",
       "  flex-direction: column;\n",
       "}\n",
       "\n",
       "#sk-container-id-7 div.sk-parallel-item:first-child::after {\n",
       "  align-self: flex-end;\n",
       "  width: 50%;\n",
       "}\n",
       "\n",
       "#sk-container-id-7 div.sk-parallel-item:last-child::after {\n",
       "  align-self: flex-start;\n",
       "  width: 50%;\n",
       "}\n",
       "\n",
       "#sk-container-id-7 div.sk-parallel-item:only-child::after {\n",
       "  width: 0;\n",
       "}\n",
       "\n",
       "/* Serial-specific style estimator block */\n",
       "\n",
       "#sk-container-id-7 div.sk-serial {\n",
       "  display: flex;\n",
       "  flex-direction: column;\n",
       "  align-items: center;\n",
       "  background-color: var(--sklearn-color-background);\n",
       "  padding-right: 1em;\n",
       "  padding-left: 1em;\n",
       "}\n",
       "\n",
       "\n",
       "/* Toggleable style: style used for estimator/Pipeline/ColumnTransformer box that is\n",
       "clickable and can be expanded/collapsed.\n",
       "- Pipeline and ColumnTransformer use this feature and define the default style\n",
       "- Estimators will overwrite some part of the style using the `sk-estimator` class\n",
       "*/\n",
       "\n",
       "/* Pipeline and ColumnTransformer style (default) */\n",
       "\n",
       "#sk-container-id-7 div.sk-toggleable {\n",
       "  /* Default theme specific background. It is overwritten whether we have a\n",
       "  specific estimator or a Pipeline/ColumnTransformer */\n",
       "  background-color: var(--sklearn-color-background);\n",
       "}\n",
       "\n",
       "/* Toggleable label */\n",
       "#sk-container-id-7 label.sk-toggleable__label {\n",
       "  cursor: pointer;\n",
       "  display: block;\n",
       "  width: 100%;\n",
       "  margin-bottom: 0;\n",
       "  padding: 0.5em;\n",
       "  box-sizing: border-box;\n",
       "  text-align: center;\n",
       "}\n",
       "\n",
       "#sk-container-id-7 label.sk-toggleable__label-arrow:before {\n",
       "  /* Arrow on the left of the label */\n",
       "  content: \"▸\";\n",
       "  float: left;\n",
       "  margin-right: 0.25em;\n",
       "  color: var(--sklearn-color-icon);\n",
       "}\n",
       "\n",
       "#sk-container-id-7 label.sk-toggleable__label-arrow:hover:before {\n",
       "  color: var(--sklearn-color-text);\n",
       "}\n",
       "\n",
       "/* Toggleable content - dropdown */\n",
       "\n",
       "#sk-container-id-7 div.sk-toggleable__content {\n",
       "  max-height: 0;\n",
       "  max-width: 0;\n",
       "  overflow: hidden;\n",
       "  text-align: left;\n",
       "  /* unfitted */\n",
       "  background-color: var(--sklearn-color-unfitted-level-0);\n",
       "}\n",
       "\n",
       "#sk-container-id-7 div.sk-toggleable__content.fitted {\n",
       "  /* fitted */\n",
       "  background-color: var(--sklearn-color-fitted-level-0);\n",
       "}\n",
       "\n",
       "#sk-container-id-7 div.sk-toggleable__content pre {\n",
       "  margin: 0.2em;\n",
       "  border-radius: 0.25em;\n",
       "  color: var(--sklearn-color-text);\n",
       "  /* unfitted */\n",
       "  background-color: var(--sklearn-color-unfitted-level-0);\n",
       "}\n",
       "\n",
       "#sk-container-id-7 div.sk-toggleable__content.fitted pre {\n",
       "  /* unfitted */\n",
       "  background-color: var(--sklearn-color-fitted-level-0);\n",
       "}\n",
       "\n",
       "#sk-container-id-7 input.sk-toggleable__control:checked~div.sk-toggleable__content {\n",
       "  /* Expand drop-down */\n",
       "  max-height: 200px;\n",
       "  max-width: 100%;\n",
       "  overflow: auto;\n",
       "}\n",
       "\n",
       "#sk-container-id-7 input.sk-toggleable__control:checked~label.sk-toggleable__label-arrow:before {\n",
       "  content: \"▾\";\n",
       "}\n",
       "\n",
       "/* Pipeline/ColumnTransformer-specific style */\n",
       "\n",
       "#sk-container-id-7 div.sk-label input.sk-toggleable__control:checked~label.sk-toggleable__label {\n",
       "  color: var(--sklearn-color-text);\n",
       "  background-color: var(--sklearn-color-unfitted-level-2);\n",
       "}\n",
       "\n",
       "#sk-container-id-7 div.sk-label.fitted input.sk-toggleable__control:checked~label.sk-toggleable__label {\n",
       "  background-color: var(--sklearn-color-fitted-level-2);\n",
       "}\n",
       "\n",
       "/* Estimator-specific style */\n",
       "\n",
       "/* Colorize estimator box */\n",
       "#sk-container-id-7 div.sk-estimator input.sk-toggleable__control:checked~label.sk-toggleable__label {\n",
       "  /* unfitted */\n",
       "  background-color: var(--sklearn-color-unfitted-level-2);\n",
       "}\n",
       "\n",
       "#sk-container-id-7 div.sk-estimator.fitted input.sk-toggleable__control:checked~label.sk-toggleable__label {\n",
       "  /* fitted */\n",
       "  background-color: var(--sklearn-color-fitted-level-2);\n",
       "}\n",
       "\n",
       "#sk-container-id-7 div.sk-label label.sk-toggleable__label,\n",
       "#sk-container-id-7 div.sk-label label {\n",
       "  /* The background is the default theme color */\n",
       "  color: var(--sklearn-color-text-on-default-background);\n",
       "}\n",
       "\n",
       "/* On hover, darken the color of the background */\n",
       "#sk-container-id-7 div.sk-label:hover label.sk-toggleable__label {\n",
       "  color: var(--sklearn-color-text);\n",
       "  background-color: var(--sklearn-color-unfitted-level-2);\n",
       "}\n",
       "\n",
       "/* Label box, darken color on hover, fitted */\n",
       "#sk-container-id-7 div.sk-label.fitted:hover label.sk-toggleable__label.fitted {\n",
       "  color: var(--sklearn-color-text);\n",
       "  background-color: var(--sklearn-color-fitted-level-2);\n",
       "}\n",
       "\n",
       "/* Estimator label */\n",
       "\n",
       "#sk-container-id-7 div.sk-label label {\n",
       "  font-family: monospace;\n",
       "  font-weight: bold;\n",
       "  display: inline-block;\n",
       "  line-height: 1.2em;\n",
       "}\n",
       "\n",
       "#sk-container-id-7 div.sk-label-container {\n",
       "  text-align: center;\n",
       "}\n",
       "\n",
       "/* Estimator-specific */\n",
       "#sk-container-id-7 div.sk-estimator {\n",
       "  font-family: monospace;\n",
       "  border: 1px dotted var(--sklearn-color-border-box);\n",
       "  border-radius: 0.25em;\n",
       "  box-sizing: border-box;\n",
       "  margin-bottom: 0.5em;\n",
       "  /* unfitted */\n",
       "  background-color: var(--sklearn-color-unfitted-level-0);\n",
       "}\n",
       "\n",
       "#sk-container-id-7 div.sk-estimator.fitted {\n",
       "  /* fitted */\n",
       "  background-color: var(--sklearn-color-fitted-level-0);\n",
       "}\n",
       "\n",
       "/* on hover */\n",
       "#sk-container-id-7 div.sk-estimator:hover {\n",
       "  /* unfitted */\n",
       "  background-color: var(--sklearn-color-unfitted-level-2);\n",
       "}\n",
       "\n",
       "#sk-container-id-7 div.sk-estimator.fitted:hover {\n",
       "  /* fitted */\n",
       "  background-color: var(--sklearn-color-fitted-level-2);\n",
       "}\n",
       "\n",
       "/* Specification for estimator info (e.g. \"i\" and \"?\") */\n",
       "\n",
       "/* Common style for \"i\" and \"?\" */\n",
       "\n",
       ".sk-estimator-doc-link,\n",
       "a:link.sk-estimator-doc-link,\n",
       "a:visited.sk-estimator-doc-link {\n",
       "  float: right;\n",
       "  font-size: smaller;\n",
       "  line-height: 1em;\n",
       "  font-family: monospace;\n",
       "  background-color: var(--sklearn-color-background);\n",
       "  border-radius: 1em;\n",
       "  height: 1em;\n",
       "  width: 1em;\n",
       "  text-decoration: none !important;\n",
       "  margin-left: 1ex;\n",
       "  /* unfitted */\n",
       "  border: var(--sklearn-color-unfitted-level-1) 1pt solid;\n",
       "  color: var(--sklearn-color-unfitted-level-1);\n",
       "}\n",
       "\n",
       ".sk-estimator-doc-link.fitted,\n",
       "a:link.sk-estimator-doc-link.fitted,\n",
       "a:visited.sk-estimator-doc-link.fitted {\n",
       "  /* fitted */\n",
       "  border: var(--sklearn-color-fitted-level-1) 1pt solid;\n",
       "  color: var(--sklearn-color-fitted-level-1);\n",
       "}\n",
       "\n",
       "/* On hover */\n",
       "div.sk-estimator:hover .sk-estimator-doc-link:hover,\n",
       ".sk-estimator-doc-link:hover,\n",
       "div.sk-label-container:hover .sk-estimator-doc-link:hover,\n",
       ".sk-estimator-doc-link:hover {\n",
       "  /* unfitted */\n",
       "  background-color: var(--sklearn-color-unfitted-level-3);\n",
       "  color: var(--sklearn-color-background);\n",
       "  text-decoration: none;\n",
       "}\n",
       "\n",
       "div.sk-estimator.fitted:hover .sk-estimator-doc-link.fitted:hover,\n",
       ".sk-estimator-doc-link.fitted:hover,\n",
       "div.sk-label-container:hover .sk-estimator-doc-link.fitted:hover,\n",
       ".sk-estimator-doc-link.fitted:hover {\n",
       "  /* fitted */\n",
       "  background-color: var(--sklearn-color-fitted-level-3);\n",
       "  color: var(--sklearn-color-background);\n",
       "  text-decoration: none;\n",
       "}\n",
       "\n",
       "/* Span, style for the box shown on hovering the info icon */\n",
       ".sk-estimator-doc-link span {\n",
       "  display: none;\n",
       "  z-index: 9999;\n",
       "  position: relative;\n",
       "  font-weight: normal;\n",
       "  right: .2ex;\n",
       "  padding: .5ex;\n",
       "  margin: .5ex;\n",
       "  width: min-content;\n",
       "  min-width: 20ex;\n",
       "  max-width: 50ex;\n",
       "  color: var(--sklearn-color-text);\n",
       "  box-shadow: 2pt 2pt 4pt #999;\n",
       "  /* unfitted */\n",
       "  background: var(--sklearn-color-unfitted-level-0);\n",
       "  border: .5pt solid var(--sklearn-color-unfitted-level-3);\n",
       "}\n",
       "\n",
       ".sk-estimator-doc-link.fitted span {\n",
       "  /* fitted */\n",
       "  background: var(--sklearn-color-fitted-level-0);\n",
       "  border: var(--sklearn-color-fitted-level-3);\n",
       "}\n",
       "\n",
       ".sk-estimator-doc-link:hover span {\n",
       "  display: block;\n",
       "}\n",
       "\n",
       "/* \"?\"-specific style due to the `<a>` HTML tag */\n",
       "\n",
       "#sk-container-id-7 a.estimator_doc_link {\n",
       "  float: right;\n",
       "  font-size: 1rem;\n",
       "  line-height: 1em;\n",
       "  font-family: monospace;\n",
       "  background-color: var(--sklearn-color-background);\n",
       "  border-radius: 1rem;\n",
       "  height: 1rem;\n",
       "  width: 1rem;\n",
       "  text-decoration: none;\n",
       "  /* unfitted */\n",
       "  color: var(--sklearn-color-unfitted-level-1);\n",
       "  border: var(--sklearn-color-unfitted-level-1) 1pt solid;\n",
       "}\n",
       "\n",
       "#sk-container-id-7 a.estimator_doc_link.fitted {\n",
       "  /* fitted */\n",
       "  border: var(--sklearn-color-fitted-level-1) 1pt solid;\n",
       "  color: var(--sklearn-color-fitted-level-1);\n",
       "}\n",
       "\n",
       "/* On hover */\n",
       "#sk-container-id-7 a.estimator_doc_link:hover {\n",
       "  /* unfitted */\n",
       "  background-color: var(--sklearn-color-unfitted-level-3);\n",
       "  color: var(--sklearn-color-background);\n",
       "  text-decoration: none;\n",
       "}\n",
       "\n",
       "#sk-container-id-7 a.estimator_doc_link.fitted:hover {\n",
       "  /* fitted */\n",
       "  background-color: var(--sklearn-color-fitted-level-3);\n",
       "}\n",
       "</style><div id=\"sk-container-id-7\" class=\"sk-top-container\"><div class=\"sk-text-repr-fallback\"><pre>LogisticRegression()</pre><b>In a Jupyter environment, please rerun this cell to show the HTML representation or trust the notebook. <br />On GitHub, the HTML representation is unable to render, please try loading this page with nbviewer.org.</b></div><div class=\"sk-container\" hidden><div class=\"sk-item\"><div class=\"sk-estimator fitted sk-toggleable\"><input class=\"sk-toggleable__control sk-hidden--visually\" id=\"sk-estimator-id-7\" type=\"checkbox\" checked><label for=\"sk-estimator-id-7\" class=\"sk-toggleable__label fitted sk-toggleable__label-arrow fitted\">&nbsp;&nbsp;LogisticRegression<a class=\"sk-estimator-doc-link fitted\" rel=\"noreferrer\" target=\"_blank\" href=\"https://scikit-learn.org/1.5/modules/generated/sklearn.linear_model.LogisticRegression.html\">?<span>Documentation for LogisticRegression</span></a><span class=\"sk-estimator-doc-link fitted\">i<span>Fitted</span></span></label><div class=\"sk-toggleable__content fitted\"><pre>LogisticRegression()</pre></div> </div></div></div></div>"
      ],
      "text/plain": [
       "LogisticRegression()"
      ]
     },
     "execution_count": 283,
     "metadata": {},
     "output_type": "execute_result"
    }
   ],
   "source": [
    "logReg0 = linear_model.LogisticRegression()\n",
    "\n",
    "## Fit our training data to this model\n",
    "\n",
    "logReg0.fit(X_train,y_train)"
   ]
  },
  {
   "cell_type": "markdown",
   "metadata": {},
   "source": [
    "We now have a logistic regression model logReg0 that we can use to assign a label {0,1} to a new set of explanatory variables (x1,....,x11)"
   ]
  },
  {
   "cell_type": "markdown",
   "metadata": {},
   "source": [
    "## Tuning model parameters"
   ]
  },
  {
   "cell_type": "markdown",
   "metadata": {},
   "source": [
    "When we created our logistic regression model, we used default settings for the parameters. In this section we will refit the model using different values for a number of these parameters, and select the optimal ones. We will first find the optimal 'solver'. For each paramater we will iterate through the potential options and print the accuracies for a model fitted with each option."
   ]
  },
  {
   "cell_type": "code",
   "execution_count": 284,
   "metadata": {},
   "outputs": [],
   "source": [
    "from sklearn import metrics"
   ]
  },
  {
   "cell_type": "code",
   "execution_count": 285,
   "metadata": {},
   "outputs": [
    {
     "name": "stdout",
     "output_type": "stream",
     "text": [
      "Test Accuracy: 0.8532608695652174\n",
      "Training Accuracy: 0.8623978201634878\n",
      "Test Accuracy: 0.8532608695652174\n",
      "Training Accuracy: 0.8623978201634878\n",
      "Test Accuracy: 0.8532608695652174\n",
      "Training Accuracy: 0.8623978201634878\n",
      "Test Accuracy: 0.8532608695652174\n",
      "Training Accuracy: 0.8623978201634878\n",
      "Test Accuracy: 0.8532608695652174\n",
      "Training Accuracy: 0.8623978201634878\n",
      "Test Accuracy: 0.8532608695652174\n",
      "Training Accuracy: 0.8623978201634878\n"
     ]
    }
   ],
   "source": [
    "## Test different solvers - note some solvers only allow for some penalties, keep this in mind\n",
    "\n",
    "solvers = ['lbfgs', 'liblinear', 'newton-cg', 'newton-cholesky', 'sag', 'saga']\n",
    "\n",
    "for s in solvers:\n",
    "\n",
    "   logReg = linear_model.LogisticRegression(solver = s)\n",
    "   logReg.fit(X_train,y_train)\n",
    "   y_pred_train = logReg.predict(X_train)\n",
    "   train_accuracy = metrics.accuracy_score(y_train, y_pred_train)\n",
    "   y_pred_test = logReg.predict(X_test)\n",
    "   test_accuracy = metrics.accuracy_score(y_test, y_pred_test)\n",
    "   print(\"Test Accuracy:\", test_accuracy)\n",
    "   print(\"Training Accuracy:\", train_accuracy)\n",
    "\n",
    "## See that the choice is irrelevant"
   ]
  },
  {
   "cell_type": "markdown",
   "metadata": {},
   "source": [
    "We find that the choice of solver doesn't affect the accuracy of our model for this data. Next we'll look at the 'penalty' parameter, which controls the type of regularisation used in the model."
   ]
  },
  {
   "cell_type": "code",
   "execution_count": 286,
   "metadata": {},
   "outputs": [
    {
     "name": "stdout",
     "output_type": "stream",
     "text": [
      "Test Accuracy for penalty None: 0.8532608695652174\n",
      "Training Accuracy for penalty None: 0.8692098092643051\n",
      "Test Accuracy for penalty l1: 0.8532608695652174\n",
      "Training Accuracy for penalty l1: 0.8705722070844687\n",
      "Test Accuracy for penalty l2: 0.8532608695652174\n",
      "Training Accuracy for penalty l2: 0.8623978201634878\n",
      "Test Accuracy for penalty elasticnet: 0.8532608695652174\n",
      "Training Accuracy for penalty elasticnet: 0.8678474114441417\n"
     ]
    }
   ],
   "source": [
    "## Test different penalties with saga solver, can handle each penalty\n",
    "\n",
    "penalties = [None,'l1','l2','elasticnet']\n",
    "\n",
    "for p in penalties:\n",
    "\n",
    "   if p == 'elasticnet':\n",
    "      logReg = linear_model.LogisticRegression(solver = 'saga', penalty = p, l1_ratio = 0.5)\n",
    "   elif p == None:\n",
    "      logReg = linear_model.LogisticRegression(solver = 'saga', penalty = p)\n",
    "   else:\n",
    "      logReg = linear_model.LogisticRegression(solver = 'saga', penalty = p)\n",
    "\n",
    "\n",
    "   logReg.fit(X_train,y_train)\n",
    "   y_pred_train = logReg.predict(X_train)\n",
    "   train_accuracy = metrics.accuracy_score(y_train, y_pred_train)\n",
    "   y_pred_test = logReg.predict(X_test)\n",
    "   test_accuracy = metrics.accuracy_score(y_test, y_pred_test)\n",
    "   print(f\"Test Accuracy for penalty {p}: {test_accuracy}\")\n",
    "   print(f\"Training Accuracy for penalty {p}: {train_accuracy}\")\n"
   ]
  },
  {
   "cell_type": "markdown",
   "metadata": {},
   "source": [
    "Again we see no difference, finally we check the 'C' parameter. The C paramater controls the strength of the regularisation in the model."
   ]
  },
  {
   "cell_type": "code",
   "execution_count": 287,
   "metadata": {},
   "outputs": [
    {
     "name": "stdout",
     "output_type": "stream",
     "text": [
      "Test Accuracy for c = 0.001: 0.7391304347826086\n",
      "Training Accuracy for c = 0.001: 0.7656675749318801\n",
      "Test Accuracy for c = 0.1: 0.8641304347826086\n",
      "Training Accuracy for c = 0.1: 0.8623978201634878\n",
      "Test Accuracy for c = 0.5: 0.8586956521739131\n",
      "Training Accuracy for c = 0.5: 0.8637602179836512\n",
      "Test Accuracy for c = 10: 0.8532608695652174\n",
      "Training Accuracy for c = 10: 0.8692098092643051\n",
      "Test Accuracy for c = 1: 0.8532608695652174\n",
      "Training Accuracy for c = 1: 0.8623978201634878\n"
     ]
    }
   ],
   "source": [
    "## Check different C values:\n",
    "\n",
    "C = [0.001, 0.1, 0.5, 10, 1]\n",
    "\n",
    "for c in C:\n",
    "\n",
    "   logReg = linear_model.LogisticRegression(C = c)\n",
    "   logReg.fit(X_train,y_train)\n",
    "   y_pred_train = logReg.predict(X_train)\n",
    "   train_accuracy = metrics.accuracy_score(y_train, y_pred_train)\n",
    "   y_pred_test = logReg.predict(X_test)\n",
    "   test_accuracy = metrics.accuracy_score(y_test, y_pred_test)\n",
    "   print(f\"Test Accuracy for c = {c}: {test_accuracy}\")\n",
    "   print(f\"Training Accuracy for c = {c}: {train_accuracy}\")   "
   ]
  },
  {
   "cell_type": "markdown",
   "metadata": {},
   "source": [
    "Here we see a slight improvement using C = 0.1 so we will fit a new, finalised model with this parameter setting. This model will have default settings for 'solver' and 'penalty', which in this case will be 'lbfgs' and 'l2' respectively"
   ]
  },
  {
   "cell_type": "code",
   "execution_count": 288,
   "metadata": {},
   "outputs": [
    {
     "data": {
      "text/html": [
       "<style>#sk-container-id-8 {\n",
       "  /* Definition of color scheme common for light and dark mode */\n",
       "  --sklearn-color-text: black;\n",
       "  --sklearn-color-line: gray;\n",
       "  /* Definition of color scheme for unfitted estimators */\n",
       "  --sklearn-color-unfitted-level-0: #fff5e6;\n",
       "  --sklearn-color-unfitted-level-1: #f6e4d2;\n",
       "  --sklearn-color-unfitted-level-2: #ffe0b3;\n",
       "  --sklearn-color-unfitted-level-3: chocolate;\n",
       "  /* Definition of color scheme for fitted estimators */\n",
       "  --sklearn-color-fitted-level-0: #f0f8ff;\n",
       "  --sklearn-color-fitted-level-1: #d4ebff;\n",
       "  --sklearn-color-fitted-level-2: #b3dbfd;\n",
       "  --sklearn-color-fitted-level-3: cornflowerblue;\n",
       "\n",
       "  /* Specific color for light theme */\n",
       "  --sklearn-color-text-on-default-background: var(--sg-text-color, var(--theme-code-foreground, var(--jp-content-font-color1, black)));\n",
       "  --sklearn-color-background: var(--sg-background-color, var(--theme-background, var(--jp-layout-color0, white)));\n",
       "  --sklearn-color-border-box: var(--sg-text-color, var(--theme-code-foreground, var(--jp-content-font-color1, black)));\n",
       "  --sklearn-color-icon: #696969;\n",
       "\n",
       "  @media (prefers-color-scheme: dark) {\n",
       "    /* Redefinition of color scheme for dark theme */\n",
       "    --sklearn-color-text-on-default-background: var(--sg-text-color, var(--theme-code-foreground, var(--jp-content-font-color1, white)));\n",
       "    --sklearn-color-background: var(--sg-background-color, var(--theme-background, var(--jp-layout-color0, #111)));\n",
       "    --sklearn-color-border-box: var(--sg-text-color, var(--theme-code-foreground, var(--jp-content-font-color1, white)));\n",
       "    --sklearn-color-icon: #878787;\n",
       "  }\n",
       "}\n",
       "\n",
       "#sk-container-id-8 {\n",
       "  color: var(--sklearn-color-text);\n",
       "}\n",
       "\n",
       "#sk-container-id-8 pre {\n",
       "  padding: 0;\n",
       "}\n",
       "\n",
       "#sk-container-id-8 input.sk-hidden--visually {\n",
       "  border: 0;\n",
       "  clip: rect(1px 1px 1px 1px);\n",
       "  clip: rect(1px, 1px, 1px, 1px);\n",
       "  height: 1px;\n",
       "  margin: -1px;\n",
       "  overflow: hidden;\n",
       "  padding: 0;\n",
       "  position: absolute;\n",
       "  width: 1px;\n",
       "}\n",
       "\n",
       "#sk-container-id-8 div.sk-dashed-wrapped {\n",
       "  border: 1px dashed var(--sklearn-color-line);\n",
       "  margin: 0 0.4em 0.5em 0.4em;\n",
       "  box-sizing: border-box;\n",
       "  padding-bottom: 0.4em;\n",
       "  background-color: var(--sklearn-color-background);\n",
       "}\n",
       "\n",
       "#sk-container-id-8 div.sk-container {\n",
       "  /* jupyter's `normalize.less` sets `[hidden] { display: none; }`\n",
       "     but bootstrap.min.css set `[hidden] { display: none !important; }`\n",
       "     so we also need the `!important` here to be able to override the\n",
       "     default hidden behavior on the sphinx rendered scikit-learn.org.\n",
       "     See: https://github.com/scikit-learn/scikit-learn/issues/21755 */\n",
       "  display: inline-block !important;\n",
       "  position: relative;\n",
       "}\n",
       "\n",
       "#sk-container-id-8 div.sk-text-repr-fallback {\n",
       "  display: none;\n",
       "}\n",
       "\n",
       "div.sk-parallel-item,\n",
       "div.sk-serial,\n",
       "div.sk-item {\n",
       "  /* draw centered vertical line to link estimators */\n",
       "  background-image: linear-gradient(var(--sklearn-color-text-on-default-background), var(--sklearn-color-text-on-default-background));\n",
       "  background-size: 2px 100%;\n",
       "  background-repeat: no-repeat;\n",
       "  background-position: center center;\n",
       "}\n",
       "\n",
       "/* Parallel-specific style estimator block */\n",
       "\n",
       "#sk-container-id-8 div.sk-parallel-item::after {\n",
       "  content: \"\";\n",
       "  width: 100%;\n",
       "  border-bottom: 2px solid var(--sklearn-color-text-on-default-background);\n",
       "  flex-grow: 1;\n",
       "}\n",
       "\n",
       "#sk-container-id-8 div.sk-parallel {\n",
       "  display: flex;\n",
       "  align-items: stretch;\n",
       "  justify-content: center;\n",
       "  background-color: var(--sklearn-color-background);\n",
       "  position: relative;\n",
       "}\n",
       "\n",
       "#sk-container-id-8 div.sk-parallel-item {\n",
       "  display: flex;\n",
       "  flex-direction: column;\n",
       "}\n",
       "\n",
       "#sk-container-id-8 div.sk-parallel-item:first-child::after {\n",
       "  align-self: flex-end;\n",
       "  width: 50%;\n",
       "}\n",
       "\n",
       "#sk-container-id-8 div.sk-parallel-item:last-child::after {\n",
       "  align-self: flex-start;\n",
       "  width: 50%;\n",
       "}\n",
       "\n",
       "#sk-container-id-8 div.sk-parallel-item:only-child::after {\n",
       "  width: 0;\n",
       "}\n",
       "\n",
       "/* Serial-specific style estimator block */\n",
       "\n",
       "#sk-container-id-8 div.sk-serial {\n",
       "  display: flex;\n",
       "  flex-direction: column;\n",
       "  align-items: center;\n",
       "  background-color: var(--sklearn-color-background);\n",
       "  padding-right: 1em;\n",
       "  padding-left: 1em;\n",
       "}\n",
       "\n",
       "\n",
       "/* Toggleable style: style used for estimator/Pipeline/ColumnTransformer box that is\n",
       "clickable and can be expanded/collapsed.\n",
       "- Pipeline and ColumnTransformer use this feature and define the default style\n",
       "- Estimators will overwrite some part of the style using the `sk-estimator` class\n",
       "*/\n",
       "\n",
       "/* Pipeline and ColumnTransformer style (default) */\n",
       "\n",
       "#sk-container-id-8 div.sk-toggleable {\n",
       "  /* Default theme specific background. It is overwritten whether we have a\n",
       "  specific estimator or a Pipeline/ColumnTransformer */\n",
       "  background-color: var(--sklearn-color-background);\n",
       "}\n",
       "\n",
       "/* Toggleable label */\n",
       "#sk-container-id-8 label.sk-toggleable__label {\n",
       "  cursor: pointer;\n",
       "  display: block;\n",
       "  width: 100%;\n",
       "  margin-bottom: 0;\n",
       "  padding: 0.5em;\n",
       "  box-sizing: border-box;\n",
       "  text-align: center;\n",
       "}\n",
       "\n",
       "#sk-container-id-8 label.sk-toggleable__label-arrow:before {\n",
       "  /* Arrow on the left of the label */\n",
       "  content: \"▸\";\n",
       "  float: left;\n",
       "  margin-right: 0.25em;\n",
       "  color: var(--sklearn-color-icon);\n",
       "}\n",
       "\n",
       "#sk-container-id-8 label.sk-toggleable__label-arrow:hover:before {\n",
       "  color: var(--sklearn-color-text);\n",
       "}\n",
       "\n",
       "/* Toggleable content - dropdown */\n",
       "\n",
       "#sk-container-id-8 div.sk-toggleable__content {\n",
       "  max-height: 0;\n",
       "  max-width: 0;\n",
       "  overflow: hidden;\n",
       "  text-align: left;\n",
       "  /* unfitted */\n",
       "  background-color: var(--sklearn-color-unfitted-level-0);\n",
       "}\n",
       "\n",
       "#sk-container-id-8 div.sk-toggleable__content.fitted {\n",
       "  /* fitted */\n",
       "  background-color: var(--sklearn-color-fitted-level-0);\n",
       "}\n",
       "\n",
       "#sk-container-id-8 div.sk-toggleable__content pre {\n",
       "  margin: 0.2em;\n",
       "  border-radius: 0.25em;\n",
       "  color: var(--sklearn-color-text);\n",
       "  /* unfitted */\n",
       "  background-color: var(--sklearn-color-unfitted-level-0);\n",
       "}\n",
       "\n",
       "#sk-container-id-8 div.sk-toggleable__content.fitted pre {\n",
       "  /* unfitted */\n",
       "  background-color: var(--sklearn-color-fitted-level-0);\n",
       "}\n",
       "\n",
       "#sk-container-id-8 input.sk-toggleable__control:checked~div.sk-toggleable__content {\n",
       "  /* Expand drop-down */\n",
       "  max-height: 200px;\n",
       "  max-width: 100%;\n",
       "  overflow: auto;\n",
       "}\n",
       "\n",
       "#sk-container-id-8 input.sk-toggleable__control:checked~label.sk-toggleable__label-arrow:before {\n",
       "  content: \"▾\";\n",
       "}\n",
       "\n",
       "/* Pipeline/ColumnTransformer-specific style */\n",
       "\n",
       "#sk-container-id-8 div.sk-label input.sk-toggleable__control:checked~label.sk-toggleable__label {\n",
       "  color: var(--sklearn-color-text);\n",
       "  background-color: var(--sklearn-color-unfitted-level-2);\n",
       "}\n",
       "\n",
       "#sk-container-id-8 div.sk-label.fitted input.sk-toggleable__control:checked~label.sk-toggleable__label {\n",
       "  background-color: var(--sklearn-color-fitted-level-2);\n",
       "}\n",
       "\n",
       "/* Estimator-specific style */\n",
       "\n",
       "/* Colorize estimator box */\n",
       "#sk-container-id-8 div.sk-estimator input.sk-toggleable__control:checked~label.sk-toggleable__label {\n",
       "  /* unfitted */\n",
       "  background-color: var(--sklearn-color-unfitted-level-2);\n",
       "}\n",
       "\n",
       "#sk-container-id-8 div.sk-estimator.fitted input.sk-toggleable__control:checked~label.sk-toggleable__label {\n",
       "  /* fitted */\n",
       "  background-color: var(--sklearn-color-fitted-level-2);\n",
       "}\n",
       "\n",
       "#sk-container-id-8 div.sk-label label.sk-toggleable__label,\n",
       "#sk-container-id-8 div.sk-label label {\n",
       "  /* The background is the default theme color */\n",
       "  color: var(--sklearn-color-text-on-default-background);\n",
       "}\n",
       "\n",
       "/* On hover, darken the color of the background */\n",
       "#sk-container-id-8 div.sk-label:hover label.sk-toggleable__label {\n",
       "  color: var(--sklearn-color-text);\n",
       "  background-color: var(--sklearn-color-unfitted-level-2);\n",
       "}\n",
       "\n",
       "/* Label box, darken color on hover, fitted */\n",
       "#sk-container-id-8 div.sk-label.fitted:hover label.sk-toggleable__label.fitted {\n",
       "  color: var(--sklearn-color-text);\n",
       "  background-color: var(--sklearn-color-fitted-level-2);\n",
       "}\n",
       "\n",
       "/* Estimator label */\n",
       "\n",
       "#sk-container-id-8 div.sk-label label {\n",
       "  font-family: monospace;\n",
       "  font-weight: bold;\n",
       "  display: inline-block;\n",
       "  line-height: 1.2em;\n",
       "}\n",
       "\n",
       "#sk-container-id-8 div.sk-label-container {\n",
       "  text-align: center;\n",
       "}\n",
       "\n",
       "/* Estimator-specific */\n",
       "#sk-container-id-8 div.sk-estimator {\n",
       "  font-family: monospace;\n",
       "  border: 1px dotted var(--sklearn-color-border-box);\n",
       "  border-radius: 0.25em;\n",
       "  box-sizing: border-box;\n",
       "  margin-bottom: 0.5em;\n",
       "  /* unfitted */\n",
       "  background-color: var(--sklearn-color-unfitted-level-0);\n",
       "}\n",
       "\n",
       "#sk-container-id-8 div.sk-estimator.fitted {\n",
       "  /* fitted */\n",
       "  background-color: var(--sklearn-color-fitted-level-0);\n",
       "}\n",
       "\n",
       "/* on hover */\n",
       "#sk-container-id-8 div.sk-estimator:hover {\n",
       "  /* unfitted */\n",
       "  background-color: var(--sklearn-color-unfitted-level-2);\n",
       "}\n",
       "\n",
       "#sk-container-id-8 div.sk-estimator.fitted:hover {\n",
       "  /* fitted */\n",
       "  background-color: var(--sklearn-color-fitted-level-2);\n",
       "}\n",
       "\n",
       "/* Specification for estimator info (e.g. \"i\" and \"?\") */\n",
       "\n",
       "/* Common style for \"i\" and \"?\" */\n",
       "\n",
       ".sk-estimator-doc-link,\n",
       "a:link.sk-estimator-doc-link,\n",
       "a:visited.sk-estimator-doc-link {\n",
       "  float: right;\n",
       "  font-size: smaller;\n",
       "  line-height: 1em;\n",
       "  font-family: monospace;\n",
       "  background-color: var(--sklearn-color-background);\n",
       "  border-radius: 1em;\n",
       "  height: 1em;\n",
       "  width: 1em;\n",
       "  text-decoration: none !important;\n",
       "  margin-left: 1ex;\n",
       "  /* unfitted */\n",
       "  border: var(--sklearn-color-unfitted-level-1) 1pt solid;\n",
       "  color: var(--sklearn-color-unfitted-level-1);\n",
       "}\n",
       "\n",
       ".sk-estimator-doc-link.fitted,\n",
       "a:link.sk-estimator-doc-link.fitted,\n",
       "a:visited.sk-estimator-doc-link.fitted {\n",
       "  /* fitted */\n",
       "  border: var(--sklearn-color-fitted-level-1) 1pt solid;\n",
       "  color: var(--sklearn-color-fitted-level-1);\n",
       "}\n",
       "\n",
       "/* On hover */\n",
       "div.sk-estimator:hover .sk-estimator-doc-link:hover,\n",
       ".sk-estimator-doc-link:hover,\n",
       "div.sk-label-container:hover .sk-estimator-doc-link:hover,\n",
       ".sk-estimator-doc-link:hover {\n",
       "  /* unfitted */\n",
       "  background-color: var(--sklearn-color-unfitted-level-3);\n",
       "  color: var(--sklearn-color-background);\n",
       "  text-decoration: none;\n",
       "}\n",
       "\n",
       "div.sk-estimator.fitted:hover .sk-estimator-doc-link.fitted:hover,\n",
       ".sk-estimator-doc-link.fitted:hover,\n",
       "div.sk-label-container:hover .sk-estimator-doc-link.fitted:hover,\n",
       ".sk-estimator-doc-link.fitted:hover {\n",
       "  /* fitted */\n",
       "  background-color: var(--sklearn-color-fitted-level-3);\n",
       "  color: var(--sklearn-color-background);\n",
       "  text-decoration: none;\n",
       "}\n",
       "\n",
       "/* Span, style for the box shown on hovering the info icon */\n",
       ".sk-estimator-doc-link span {\n",
       "  display: none;\n",
       "  z-index: 9999;\n",
       "  position: relative;\n",
       "  font-weight: normal;\n",
       "  right: .2ex;\n",
       "  padding: .5ex;\n",
       "  margin: .5ex;\n",
       "  width: min-content;\n",
       "  min-width: 20ex;\n",
       "  max-width: 50ex;\n",
       "  color: var(--sklearn-color-text);\n",
       "  box-shadow: 2pt 2pt 4pt #999;\n",
       "  /* unfitted */\n",
       "  background: var(--sklearn-color-unfitted-level-0);\n",
       "  border: .5pt solid var(--sklearn-color-unfitted-level-3);\n",
       "}\n",
       "\n",
       ".sk-estimator-doc-link.fitted span {\n",
       "  /* fitted */\n",
       "  background: var(--sklearn-color-fitted-level-0);\n",
       "  border: var(--sklearn-color-fitted-level-3);\n",
       "}\n",
       "\n",
       ".sk-estimator-doc-link:hover span {\n",
       "  display: block;\n",
       "}\n",
       "\n",
       "/* \"?\"-specific style due to the `<a>` HTML tag */\n",
       "\n",
       "#sk-container-id-8 a.estimator_doc_link {\n",
       "  float: right;\n",
       "  font-size: 1rem;\n",
       "  line-height: 1em;\n",
       "  font-family: monospace;\n",
       "  background-color: var(--sklearn-color-background);\n",
       "  border-radius: 1rem;\n",
       "  height: 1rem;\n",
       "  width: 1rem;\n",
       "  text-decoration: none;\n",
       "  /* unfitted */\n",
       "  color: var(--sklearn-color-unfitted-level-1);\n",
       "  border: var(--sklearn-color-unfitted-level-1) 1pt solid;\n",
       "}\n",
       "\n",
       "#sk-container-id-8 a.estimator_doc_link.fitted {\n",
       "  /* fitted */\n",
       "  border: var(--sklearn-color-fitted-level-1) 1pt solid;\n",
       "  color: var(--sklearn-color-fitted-level-1);\n",
       "}\n",
       "\n",
       "/* On hover */\n",
       "#sk-container-id-8 a.estimator_doc_link:hover {\n",
       "  /* unfitted */\n",
       "  background-color: var(--sklearn-color-unfitted-level-3);\n",
       "  color: var(--sklearn-color-background);\n",
       "  text-decoration: none;\n",
       "}\n",
       "\n",
       "#sk-container-id-8 a.estimator_doc_link.fitted:hover {\n",
       "  /* fitted */\n",
       "  background-color: var(--sklearn-color-fitted-level-3);\n",
       "}\n",
       "</style><div id=\"sk-container-id-8\" class=\"sk-top-container\"><div class=\"sk-text-repr-fallback\"><pre>LogisticRegression(C=0.1)</pre><b>In a Jupyter environment, please rerun this cell to show the HTML representation or trust the notebook. <br />On GitHub, the HTML representation is unable to render, please try loading this page with nbviewer.org.</b></div><div class=\"sk-container\" hidden><div class=\"sk-item\"><div class=\"sk-estimator fitted sk-toggleable\"><input class=\"sk-toggleable__control sk-hidden--visually\" id=\"sk-estimator-id-8\" type=\"checkbox\" checked><label for=\"sk-estimator-id-8\" class=\"sk-toggleable__label fitted sk-toggleable__label-arrow fitted\">&nbsp;&nbsp;LogisticRegression<a class=\"sk-estimator-doc-link fitted\" rel=\"noreferrer\" target=\"_blank\" href=\"https://scikit-learn.org/1.5/modules/generated/sklearn.linear_model.LogisticRegression.html\">?<span>Documentation for LogisticRegression</span></a><span class=\"sk-estimator-doc-link fitted\">i<span>Fitted</span></span></label><div class=\"sk-toggleable__content fitted\"><pre>LogisticRegression(C=0.1)</pre></div> </div></div></div></div>"
      ],
      "text/plain": [
       "LogisticRegression(C=0.1)"
      ]
     },
     "execution_count": 288,
     "metadata": {},
     "output_type": "execute_result"
    }
   ],
   "source": [
    "logReg = linear_model.LogisticRegression(C = 0.1)\n",
    "logReg.fit(X_train,y_train)"
   ]
  },
  {
   "cell_type": "markdown",
   "metadata": {},
   "source": [
    "## Evaluating model performance"
   ]
  },
  {
   "cell_type": "markdown",
   "metadata": {},
   "source": [
    "As shown below, our model is producing a value y in {0,1} for each observation in our X_test data."
   ]
  },
  {
   "cell_type": "code",
   "execution_count": 289,
   "metadata": {},
   "outputs": [
    {
     "data": {
      "text/plain": [
       "array([1, 0, 0, 1, 0, 0, 1, 1, 1, 1, 1, 0, 0, 1, 0, 1, 0, 0, 0, 1, 1, 0,\n",
       "       1, 0, 1, 0, 0, 0, 1, 0, 1, 1, 1, 0, 0, 1, 0, 1, 1, 1, 0, 0, 1, 1,\n",
       "       1, 1, 0, 0, 0, 1, 1, 0, 1, 0, 1, 1, 1, 1, 1, 1, 1, 1, 1, 1, 1, 1,\n",
       "       0, 1, 0, 0, 1, 1, 0, 1, 1, 1, 0, 1, 0, 1, 0, 1, 0, 0, 1, 1, 1, 0,\n",
       "       1, 1, 0, 0, 1, 0, 1, 0, 0, 1, 0, 1, 1, 1, 1, 1, 1, 1, 0, 0, 1, 1,\n",
       "       0, 1, 1, 1, 1, 1, 1, 0, 1, 0, 1, 1, 1, 0, 0, 1, 1, 1, 1, 0, 1, 0,\n",
       "       1, 0, 1, 1, 0, 1, 1, 0, 1, 1, 1, 1, 1, 1, 0, 0, 0, 1, 1, 1, 0, 0,\n",
       "       1, 1, 1, 0, 1, 0, 0, 0, 0, 1, 0, 0, 0, 1, 0, 1, 1, 1, 1, 1, 1, 1,\n",
       "       0, 1, 1, 1, 0, 0, 0, 1])"
      ]
     },
     "execution_count": 289,
     "metadata": {},
     "output_type": "execute_result"
    }
   ],
   "source": [
    "y_pred = logReg.predict(X_test)\n",
    "y_pred"
   ]
  },
  {
   "cell_type": "markdown",
   "metadata": {},
   "source": [
    "We can assess this model firstly by understanding how the model performs on our training data and our test data. To do this we will utilise sklearn.metrics, which provides an accuracy score - the proportion of correctly predicted labels. We will compute this score using both test and training data, we want a high score for the test accuracy, as this means the model is fitting well to new data. A high training accuracy that is well above our test accuracy may be cause for concern as it suggests the model isn't generalising to new data well."
   ]
  },
  {
   "cell_type": "code",
   "execution_count": 290,
   "metadata": {},
   "outputs": [
    {
     "name": "stdout",
     "output_type": "stream",
     "text": [
      "Training Accuracy: 0.8623978201634878\n"
     ]
    }
   ],
   "source": [
    "## Assess how well the model works on the data used to train it\n",
    "y_pred_train = logReg.predict(X_train)\n",
    "train_accuracy = metrics.accuracy_score(y_train, y_pred_train)\n",
    "print(\"Training Accuracy:\", train_accuracy)"
   ]
  },
  {
   "cell_type": "code",
   "execution_count": 291,
   "metadata": {},
   "outputs": [
    {
     "name": "stdout",
     "output_type": "stream",
     "text": [
      "Test Accuracy: 0.8641304347826086\n"
     ]
    }
   ],
   "source": [
    "## Assess how well the model works on the unseen data\n",
    "y_pred_test = logReg.predict(X_test)\n",
    "test_accuracy = metrics.accuracy_score(y_test, y_pred_test)\n",
    "print(\"Test Accuracy:\", test_accuracy)"
   ]
  },
  {
   "cell_type": "markdown",
   "metadata": {},
   "source": [
    "We see 86% accuracy for both sets of data, indicating that our model is generalising well to unseen data, and isn't 'overfit' to the training data. Next we will use a classification report, to take a more detailed look at the model's strengths and weaknesses, by assessing it's performance in each class.\n"
   ]
  },
  {
   "cell_type": "code",
   "execution_count": 292,
   "metadata": {},
   "outputs": [],
   "source": [
    "from sklearn.metrics import classification_report"
   ]
  },
  {
   "cell_type": "code",
   "execution_count": 293,
   "metadata": {},
   "outputs": [
    {
     "name": "stdout",
     "output_type": "stream",
     "text": [
      "                  precision    recall  f1-score   support\n",
      "\n",
      "No Heart Disease       0.89      0.79      0.84        81\n",
      "   Heart Disease       0.85      0.92      0.88       103\n",
      "\n",
      "        accuracy                           0.86       184\n",
      "       macro avg       0.87      0.86      0.86       184\n",
      "    weighted avg       0.87      0.86      0.86       184\n",
      "\n"
     ]
    }
   ],
   "source": [
    "## Classification report for the model\n",
    "target_names = ['No Heart Disease', 'Heart Disease']\n",
    "print(classification_report(y_test, y_pred, target_names=target_names))"
   ]
  },
  {
   "cell_type": "markdown",
   "metadata": {},
   "source": [
    "We will look more closely at this report in the explanation of results. A particular take-away from this report is the recall score for patients with heart disease (92%). This represents the 'true positive rate' or the 'sensitivity', which tells us how well the model detects heart disease in patients who actually have it. This is very important for our context, and will be explored further in the next section."
   ]
  },
  {
   "cell_type": "code",
   "execution_count": 305,
   "metadata": {},
   "outputs": [],
   "source": [
    "## Extract probabilities that our model is calculating for the test data, select column 1 to select probabilities for having heart disease (y=1)\n",
    "y_pred_proba = logReg.predict_proba(X_test)[:,1]\n"
   ]
  },
  {
   "cell_type": "markdown",
   "metadata": {},
   "source": [
    "We can create a confusion matrix to compare the actual labels in our test set, to the labels predicted in our model. It will show us the different types of error the model is making."
   ]
  },
  {
   "cell_type": "code",
   "execution_count": 295,
   "metadata": {},
   "outputs": [],
   "source": [
    "## Create a confusion matrix which shows the distribution of correct predictions\n",
    "cnf_matrix = metrics.confusion_matrix(y_test, y_pred)\n"
   ]
  },
  {
   "cell_type": "code",
   "execution_count": null,
   "metadata": {},
   "outputs": [],
   "source": [
    "## Function for producing confusion matrix heatmap to visualise accuracy of model predictions\n",
    "\n",
    "def heatmap_cf():\n",
    "  col = sns.color_palette(\"YlOrBr\", as_cmap=True)\n",
    "  sns.heatmap(pd.DataFrame(cnf_matrix), annot=True, cmap=col)\n",
    "\n",
    "  ## Edit plot\n",
    "  plt.title('Confusion Matrix for Heart Disease Data', y = 1.07)\n",
    "  plt.ylabel('Actual label')\n",
    "  plt.xlabel('Predicted label')\n",
    "  plt.show()\n"
   ]
  },
  {
   "cell_type": "markdown",
   "metadata": {},
   "source": [
    "Next we'll produce an ROC curve that will plot the true positive rate against the false positive rate, at different decision threshold. The 'decision threshold' is further explained in the 'Considering context' section below. To assess the model using this ROC curve, we calulate the area under the curve, AUC. "
   ]
  },
  {
   "cell_type": "code",
   "execution_count": 336,
   "metadata": {},
   "outputs": [],
   "source": [
    "## Function to create ROC curve to assess diagnostic performance\n",
    "\n",
    "def roc():\n",
    "\n",
    "  ## Create ROC curve for logReg\n",
    "  fpr, tpr, thresholds = metrics.roc_curve(y_test,  y_pred_proba)\n",
    "  auc = metrics.roc_auc_score(y_test, y_pred_proba)\n",
    "  plt.plot(fpr,tpr,label=\" auc=\"+str(auc))\n",
    "  plt.xlabel('Sensitivity')\n",
    "  plt.ylabel('Specificity')\n",
    "  plt.legend(loc=4)\n",
    "  plt.show()\n",
    "\n"
   ]
  },
  {
   "cell_type": "markdown",
   "metadata": {},
   "source": [
    "From this curve we can calculate the optimal threshold for our model in different ways. Below shows the optimal threshold using Youden's Index (denoted J), which maximises the difference between the true positive rate and the false positive rate. In the section below, we look closely at selecting a threshold value, and find that this optimal threshold provided by Youden's Index, provides a slight improvement in accuracy."
   ]
  },
  {
   "cell_type": "code",
   "execution_count": null,
   "metadata": {},
   "outputs": [
    {
     "name": "stdout",
     "output_type": "stream",
     "text": [
      "Optimal Threshold (Max Youden's Index): 0.49672535434779447\n"
     ]
    }
   ],
   "source": [
    "fpr, tpr, thresholds = metrics.roc_curve(y_test,  y_pred_proba)\n",
    "youden_index = tpr - fpr\n",
    "optimal_threshold = thresholds[youden_index.argmax()]\n",
    "optimal_fpr = fpr[youden_index.argmax()]\n",
    "optimal_tpr = tpr[youden_index.argmax()]\n",
    "\n",
    "print(\"Optimal Threshold (Max Youden's Index (J)):\", optimal_threshold)"
   ]
  },
  {
   "cell_type": "markdown",
   "metadata": {},
   "source": [
    "Threshold provided is slighly lower than the default (0.5) but doesn't differ significantly. Below is a visualisation of this optimal threshold, and the corresponding Yeuden index J."
   ]
  },
  {
   "cell_type": "code",
   "execution_count": 334,
   "metadata": {},
   "outputs": [],
   "source": [
    "def roc_yeuden():\n",
    "\n",
    "  ## Create ROC curve for logReg\n",
    "  fpr, tpr, thresholds = metrics.roc_curve(y_test,  y_pred_proba)\n",
    "  auc = metrics.roc_auc_score(y_test, y_pred_proba)\n",
    "  plt.plot(fpr,tpr,label=\" auc=\"+str(auc))\n",
    "  plt.plot([0, 1], [0, 1], color='gray', linestyle='--')\n",
    "  plt.scatter(optimal_fpr, optimal_tpr, color='red', marker='o', label=f'Optimal Threshold: {round(optimal_threshold,4)}')\n",
    "  plt.plot([optimal_fpr, optimal_fpr], [optimal_tpr, optimal_fpr], color='green', linestyle=':', label=f'J')\n",
    "  plt.xlabel('Sensitivity')\n",
    "  plt.ylabel('Specificity')\n",
    "  plt.legend(loc=4)\n",
    "  plt.show()"
   ]
  },
  {
   "cell_type": "markdown",
   "metadata": {},
   "source": [
    "## Considering context"
   ]
  },
  {
   "cell_type": "markdown",
   "metadata": {},
   "source": [
    "We can extract the probabilities that each observation in our test set will have Heart Disease according to our model. Let's look at the probabilites, and the classification for the first 6 observations:"
   ]
  },
  {
   "cell_type": "code",
   "execution_count": 298,
   "metadata": {},
   "outputs": [
    {
     "name": "stdout",
     "output_type": "stream",
     "text": [
      "Probability: 0.9383845237625295, Classification: 1\n",
      "Probability: 0.10609504810780189, Classification: 0\n",
      "Probability: 0.1362306886245741, Classification: 0\n",
      "Probability: 0.9729574966536166, Classification: 1\n",
      "Probability: 0.06576315449154756, Classification: 0\n",
      "Probability: 0.1451743600166424, Classification: 0\n"
     ]
    }
   ],
   "source": [
    "probs = y_pred_proba[0:6]\n",
    "labels = y_pred[0:6]\n",
    "for i in range(6):\n",
    "    print(f\"Probability: {probs[i]}, Classification: {labels[i]}\")"
   ]
  },
  {
   "cell_type": "markdown",
   "metadata": {},
   "source": [
    "Here the classification is being decided based on the default cutoff point of 0.5, i.e. if probability > 0.5, classification = 1. Lets look at the confusion matrix with this default cutoff:"
   ]
  },
  {
   "cell_type": "code",
   "execution_count": 299,
   "metadata": {},
   "outputs": [
    {
     "name": "stdout",
     "output_type": "stream",
     "text": [
      "[[64 17]\n",
      " [ 8 95]]\n"
     ]
    }
   ],
   "source": [
    "print(cnf_matrix)\n",
    "    "
   ]
  },
  {
   "cell_type": "markdown",
   "metadata": {},
   "source": [
    "The bottom left entry is the number of 'False postives', which represents a patient's heart disease being undetected in our model. This is the worst case scenario in this situation - the patient will be at serious risk and be totally unaware and may not recieve necessary treatment."
   ]
  },
  {
   "cell_type": "code",
   "execution_count": 317,
   "metadata": {},
   "outputs": [
    {
     "name": "stdout",
     "output_type": "stream",
     "text": [
      "[[  6  75]\n",
      " [  0 103]]\n",
      "For cutoff 0.05, test accuracy is 0.592391304347826\n",
      "[[ 22  59]\n",
      " [  1 102]]\n",
      "For cutoff 0.1, test accuracy is 0.6739130434782609\n",
      "[[ 34  47]\n",
      " [  2 101]]\n",
      "For cutoff 0.15, test accuracy is 0.7336956521739131\n",
      "[[ 44  37]\n",
      " [  3 100]]\n",
      "For cutoff 0.2, test accuracy is 0.782608695652174\n",
      "[[51 30]\n",
      " [ 5 98]]\n",
      "For cutoff 0.25, test accuracy is 0.8097826086956522\n",
      "[[57 24]\n",
      " [ 6 97]]\n",
      "For cutoff 0.3, test accuracy is 0.8369565217391305\n",
      "[[61 20]\n",
      " [ 6 97]]\n",
      "For cutoff 0.4, test accuracy is 0.8586956521739131\n",
      "[[62 19]\n",
      " [ 6 97]]\n",
      "For cutoff 0.45, test accuracy is 0.8641304347826086\n",
      "[[64 17]\n",
      " [ 7 96]]\n",
      "For cutoff 0.49672535434779447, test accuracy is 0.8695652173913043\n"
     ]
    }
   ],
   "source": [
    "## Select lower cutoff to avoid false negatives\n",
    "\n",
    "for i in [0.05,0.1,0.15,0.2,0.25,0.3,0.4,0.45, optimal_threshold]:\n",
    "\n",
    "   ## Predict class based on this cutoff instead of default 0.5\n",
    "   y_pred1 = (y_pred_proba >= i)\n",
    "\n",
    "   ## Assess the changes\n",
    "   cnf_matrix1 = metrics.confusion_matrix(y_test, y_pred1)\n",
    "   print(cnf_matrix1)\n",
    "\n",
    "   test_accuracy1 = metrics.accuracy_score(y_test, y_pred1)\n",
    "   print(f\"For cutoff {i}, test accuracy is {test_accuracy1}\")"
   ]
  },
  {
   "cell_type": "markdown",
   "metadata": {},
   "source": [
    "We see that at a lower cutoff point we get less 'false negatives', and if we wanted no patient's heart disease to go undetected in our test set we could (naively) use c = 0.05. But, this comes at a cost, decreasing cutoff point from 0.5 gradually decreases the accuracy of our model, which we don't want to do. In our specific case, it could be sensible to use cutoff 0.45, as we reduce the false negatives by 2, while keeping accuracy the same. However we could adjust our cutoff point to cater to each indiviudal application of the model."
   ]
  },
  {
   "cell_type": "markdown",
   "metadata": {
    "id": "PT3ou0Q2JS4F"
   },
   "source": [
    "# Project Outcome (10 + 10 marks)\n",
    "\n",
    "_This section should describe the outcome of the project by means of both explanation of the results and by graphical visualisation in the form of graphs, charts or or other kinds of diagram_\n",
    "\n",
    "_The section should begin with a general overview of the results and then have a section for each of the project objectives. For each of these objectives an explanation of more specific results relating to that objective shoud be given, followed by a section presenting some visualisation of the results obtained. (In the case where\n",
    "the project had just one objective, you should still have a section describing\n",
    "the results from a general perspective followed by a section that focuses on\n",
    "the particular objective.)_\n",
    "\n",
    "_The marks for this section will be divided into 10 marks for Explanation\n",
    "and 10 marks for Visualisation. These marks will be awarded for the Project Outcome\n",
    "section as a whole, not for each objective individually. Hence, you do not\n",
    "have to pay equal attention to each. However, you are expected to have a\n",
    "some explanation and visualisation for each. It is suggested you have\n",
    "200-400 words explanation for each objective._"
   ]
  },
  {
   "cell_type": "markdown",
   "metadata": {
    "id": "8lGQV4QJJS4F"
   },
   "source": [
    "## Overview of Results\n",
    "_Give a general overview of the results (around 200 words)._"
   ]
  },
  {
   "cell_type": "markdown",
   "metadata": {
    "id": "WCwSrlZRJS4F"
   },
   "source": [
    "## Objective 1\n",
    "\n",
    "### Explanation of Results\n",
    "\n",
    "_200-400 words_\n",
    "\n",
    "### Visualisation\n",
    "_The following bar chart gives a vivid representation of the distribution\n",
    "of fridge magnet types, in which the dominance of 'meme' type magnets\n",
    "is dramatically illustrated._"
   ]
  },
  {
   "cell_type": "code",
   "execution_count": 301,
   "metadata": {
    "colab": {
     "base_uri": "https://localhost:8080/",
     "height": 141
    },
    "id": "KpbDkoRpJS4G",
    "outputId": "607c6c3d-780b-457e-b534-cd23bb18f0cb"
   },
   "outputs": [
    {
     "ename": "NameError",
     "evalue": "name 'fridge_sorted_bar' is not defined",
     "output_type": "error",
     "traceback": [
      "\u001b[0;31m---------------------------------------------------------------------------\u001b[0m",
      "\u001b[0;31mNameError\u001b[0m                                 Traceback (most recent call last)",
      "Cell \u001b[0;32mIn[301], line 1\u001b[0m\n\u001b[0;32m----> 1\u001b[0m \u001b[43mfridge_sorted_bar\u001b[49m(color\u001b[38;5;241m=\u001b[39m\u001b[38;5;124m'\u001b[39m\u001b[38;5;124mred\u001b[39m\u001b[38;5;124m'\u001b[39m)\n",
      "\u001b[0;31mNameError\u001b[0m: name 'fridge_sorted_bar' is not defined"
     ]
    }
   ],
   "source": [
    "fridge_sorted_bar(color='red')"
   ]
  },
  {
   "cell_type": "markdown",
   "metadata": {
    "id": "3BaaVfgGJS4G"
   },
   "source": [
    "## Objective 2\n",
    "### Explanation of Results\n",
    "\n",
    "200-400 Words\n",
    "\n",
    "### Visualisation"
   ]
  },
  {
   "cell_type": "markdown",
   "metadata": {
    "id": "PjK6UculJS4G"
   },
   "source": [
    "## Objective 3\n",
    "### Explanation of Results\n",
    "\n",
    "200-400 Words\n",
    "\n",
    "### Visualisation"
   ]
  },
  {
   "cell_type": "markdown",
   "metadata": {
    "id": "ad6MFmZgJS4G"
   },
   "source": [
    "## Objective 4\n",
    "### Explanation of Results\n",
    "\n",
    "200-400 Words\n",
    "\n",
    "### Visualisation"
   ]
  },
  {
   "cell_type": "markdown",
   "metadata": {
    "id": "myLtd0cfJS4G"
   },
   "source": [
    "# Conclusion (5 marks)\n",
    "\n",
    "_Your concluding section should be around 200-400 words. It is recommended\n",
    "that you divide it into the following sections._\n",
    "\n",
    "### Achievements\n",
    "_As we had expected, the most popular fridge magnets were of the 'meme' kind.\n",
    "We were surprised that 'smiley' fridge magnets were less common than expected.\n",
    "We conjecture that this is because, although they are apparently very popular,\n",
    "few fridges display more than one smiley. However, 'meme' based magnets can\n",
    "be found in large numbers, even on quite small fridges._\n",
    "\n",
    "### Limitations\n",
    "\n",
    "_The project was limited to a small number of fridge magents, which may not be\n",
    "typical of fridges found in the global fridge magnet ecosystem._\n",
    "\n",
    "### Future Work\n",
    "\n",
    "_In future work we would like to obtain more diverse data and study fridge magnets\n",
    "beyond the limited confines of student accomodation. We hypothesise that there\n",
    "could be a link between fridge magnet types and social class and/or educational\n",
    "achievement._"
   ]
  },
  {
   "cell_type": "code",
   "execution_count": null,
   "metadata": {
    "id": "HgOQtYvVJS4H"
   },
   "outputs": [],
   "source": []
  }
 ],
 "metadata": {
  "colab": {
   "provenance": []
  },
  "kernelspec": {
   "display_name": "base",
   "language": "python",
   "name": "python3"
  },
  "language_info": {
   "codemirror_mode": {
    "name": "ipython",
    "version": 3
   },
   "file_extension": ".py",
   "mimetype": "text/x-python",
   "name": "python",
   "nbconvert_exporter": "python",
   "pygments_lexer": "ipython3",
   "version": "3.12.2"
  }
 },
 "nbformat": 4,
 "nbformat_minor": 0
}
